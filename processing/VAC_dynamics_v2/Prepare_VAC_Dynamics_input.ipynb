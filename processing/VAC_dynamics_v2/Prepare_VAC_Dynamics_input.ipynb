{
 "cells": [
  {
   "cell_type": "code",
   "execution_count": 59,
   "metadata": {},
   "outputs": [],
   "source": [
    "import numpy as np\n",
    "from astropy.table import Table,join\n",
    "import matplotlib.pyplot as plt"
   ]
  },
  {
   "cell_type": "code",
   "execution_count": 60,
   "metadata": {},
   "outputs": [],
   "source": [
    "dr3_rv_gaia_bstep = Table.read('VAC_Dynamics_V2_input_topcat.fits')"
   ]
  },
  {
   "cell_type": "code",
   "execution_count": 61,
   "metadata": {},
   "outputs": [
    {
     "data": {
      "text/plain": [
       "['star_id',\n",
       " 'sobject_id',\n",
       " 'dr2_source_id',\n",
       " 'dr3_source_id',\n",
       " 'rv_galah',\n",
       " 'e_rv_galah',\n",
       " 'use_rv_flag',\n",
       " 'rv_sme_v2',\n",
       " 'e_rv_sme',\n",
       " 'rv_obst',\n",
       " 'e_rv_obst',\n",
       " 'dr2_radial_velocity',\n",
       " 'dr2_radial_velocity_error',\n",
       " 'ra',\n",
       " 'ra_error',\n",
       " 'dec',\n",
       " 'dec_error',\n",
       " 'parallax_error',\n",
       " 'pmra',\n",
       " 'pmra_error',\n",
       " 'pmdec',\n",
       " 'pmdec_error',\n",
       " 'ra_dec_corr',\n",
       " 'ra_parallax_corr',\n",
       " 'ra_pmra_corr',\n",
       " 'ra_pmdec_corr',\n",
       " 'dec_parallax_corr',\n",
       " 'dec_pmra_corr',\n",
       " 'dec_pmdec_corr',\n",
       " 'parallax_pmra_corr',\n",
       " 'parallax_pmdec_corr',\n",
       " 'pmra_pmdec_corr',\n",
       " 'parallax_corr',\n",
       " 'r_med_geo',\n",
       " 'r_lo_geo',\n",
       " 'r_hi_geo',\n",
       " 'r_med_photogeo',\n",
       " 'r_lo_photogeo',\n",
       " 'r_hi_photogeo',\n",
       " 'distance_bstep',\n",
       " 'e_distance_bstep',\n",
       " 'e16_distance_bstep',\n",
       " 'e84_distance_bstep']"
      ]
     },
     "execution_count": 61,
     "metadata": {},
     "output_type": "execute_result"
    }
   ],
   "source": [
    "dr3_rv_gaia_bstep.keys()"
   ]
  },
  {
   "cell_type": "code",
   "execution_count": 62,
   "metadata": {},
   "outputs": [],
   "source": [
    "# Flag for used distance:\n",
    "# 0: BSTEP (including distance without parallaxes)\n",
    "# 1: Bailer-Jones photogeo distance\n",
    "# 2: Bailer-Jones geo distance\n",
    "# 4: 1/parallax\n",
    "# 8: None\n",
    "\n",
    "# initialise assuming bstep is available\n",
    "use_dist_flag = -1*np.ones(len(dr3_rv_gaia_bstep['sobject_id']),dtype=np.int)\n",
    "\n",
    "# distance_bstep available\n",
    "bstep_available = (\n",
    "    np.isfinite(dr3_rv_gaia_bstep['distance_bstep']) &\n",
    "    (~dr3_rv_gaia_bstep['distance_bstep'].mask)\n",
    ")\n",
    "\n",
    "use_dist_flag[bstep_available] = 0\n",
    "\n",
    "# go to bailer-jones\n",
    "bailer_jones_photogeo = (\n",
    "    (use_dist_flag < 0) &\n",
    "    np.isfinite(dr3_rv_gaia_bstep['r_med_photogeo']) &\n",
    "    (~dr3_rv_gaia_bstep['r_med_photogeo'].mask)\n",
    ")\n",
    "use_dist_flag[bailer_jones_photogeo] = 1\n",
    "\n",
    "# go to bailer-jones\n",
    "bailer_jones_geo = (\n",
    "    (use_dist_flag < 0) &\n",
    "    np.isfinite(dr3_rv_gaia_bstep['r_med_geo'])\n",
    ")\n",
    "use_dist_flag[bailer_jones_geo] = 2\n",
    "\n",
    "# go to parallax\n",
    "one_over_parallax = (\n",
    "    (use_dist_flag < 0) &\n",
    "    np.isfinite(dr3_rv_gaia_bstep['parallax_corr'])\n",
    ")\n",
    "use_dist_flag[one_over_parallax] = 4\n",
    "\n",
    "# nothing\n",
    "no_parallax = (\n",
    "    np.isnan(dr3_rv_gaia_bstep['distance_bstep']) &\n",
    "    np.isnan(dr3_rv_gaia_bstep['r_med_photogeo']) &\n",
    "    np.isnan(dr3_rv_gaia_bstep['r_med_geo']) &\n",
    "    np.isnan(dr3_rv_gaia_bstep['parallax_corr'])\n",
    ")\n",
    "use_dist_flag[no_parallax] = 8"
   ]
  },
  {
   "cell_type": "code",
   "execution_count": 63,
   "metadata": {},
   "outputs": [],
   "source": [
    "# Flag for used RV\n",
    "# 0: GALAH RV VAC Zwitter rv_obst (including grav. redshift correction)\n",
    "# 1: GALAH DR3\n",
    "# 2: Gaia DR2\n",
    "# 4: no RV\n",
    "\n",
    "# initialise assuming bstep is available\n",
    "use_rv_flag = -1*np.ones(len(dr3_rv_gaia_bstep['sobject_id']),dtype=np.int)\n",
    "\n",
    "# has zwitter rv_obst\n",
    "has_zwitter = (\n",
    "    np.isfinite(dr3_rv_gaia_bstep['rv_obst']) &\n",
    "    np.isfinite(dr3_rv_gaia_bstep['e_rv_obst'])\n",
    ")\n",
    "use_rv_flag[has_zwitter] = 0\n",
    "\n",
    "# no zwitter rv, so go to rv_galah\n",
    "no_zwitter = (\n",
    "    (use_rv_flag < 0) &\n",
    "    (\n",
    "        np.isfinite(dr3_rv_gaia_bstep['rv_sme_v2']) &\n",
    "        np.isfinite(dr3_rv_gaia_bstep['e_rv_sme'])\n",
    "    )\n",
    ")\n",
    "use_rv_flag[no_zwitter] = 1\n",
    "\n",
    "# go to gaia dr2 rv, if GALAH RV not available or GALAH RV error larger than Gaia DR2\n",
    "use_gaia_rv = (\n",
    "    (\n",
    "        (use_rv_flag < 0) &\n",
    "        np.isfinite(dr3_rv_gaia_bstep['dr2_radial_velocity']) &\n",
    "        np.isfinite(dr3_rv_gaia_bstep['dr2_radial_velocity_error'])        \n",
    "    ) |\n",
    "    (\n",
    "        (use_rv_flag == 0) &\n",
    "        np.isfinite(dr3_rv_gaia_bstep['dr2_radial_velocity']) &\n",
    "        np.isfinite(dr3_rv_gaia_bstep['dr2_radial_velocity_error']) &   \n",
    "        (dr3_rv_gaia_bstep['dr2_radial_velocity_error'] < dr3_rv_gaia_bstep['e_rv_obst'])\n",
    "    ) |\n",
    "    (\n",
    "        (use_rv_flag == 1) &\n",
    "        np.isfinite(dr3_rv_gaia_bstep['dr2_radial_velocity']) &\n",
    "        np.isfinite(dr3_rv_gaia_bstep['dr2_radial_velocity_error']) &   \n",
    "        (dr3_rv_gaia_bstep['dr2_radial_velocity_error'] < dr3_rv_gaia_bstep['e_rv_sme'])\n",
    "    )   \n",
    ")\n",
    "use_rv_flag[use_gaia_rv] = 2\n",
    "\n",
    "# no rv\n",
    "no_rv = (\n",
    "    use_rv_flag < 0\n",
    ")\n",
    "use_rv_flag[no_rv] = 4"
   ]
  },
  {
   "cell_type": "code",
   "execution_count": 64,
   "metadata": {},
   "outputs": [
    {
     "data": {
      "text/plain": [
       "(array([  1677,   1680,   1681, ..., 678380, 678383, 678391]),)"
      ]
     },
     "execution_count": 64,
     "metadata": {},
     "output_type": "execute_result"
    }
   ],
   "source": [
    "np.where(dr3_rv_gaia_bstep['use_rv_flag'] - use_rv_flag != 0)"
   ]
  },
  {
   "cell_type": "code",
   "execution_count": 65,
   "metadata": {},
   "outputs": [],
   "source": [
    "dr3_rv_gaia_bstep['use_dist_flag'] = use_dist_flag\n",
    "dr3_rv_gaia_bstep['use_rv_flag'] = use_rv_flag\n",
    "dr3_rv_gaia_bstep.write('VAC_Dynamics_V2_input.fits',overwrite=True)"
   ]
  },
  {
   "cell_type": "code",
   "execution_count": 66,
   "metadata": {},
   "outputs": [
    {
     "name": "stdout",
     "output_type": "stream",
     "text": [
      "0\n",
      "649453\n",
      "27639\n",
      "41\n",
      "0\n",
      "1290\n"
     ]
    }
   ],
   "source": [
    "for each in [-1,0,1,2,4,8]:\n",
    "    print(len(np.where(use_dist_flag==each)[0]))"
   ]
  },
  {
   "cell_type": "code",
   "execution_count": 67,
   "metadata": {},
   "outputs": [
    {
     "name": "stdout",
     "output_type": "stream",
     "text": [
      "0\n",
      "563260\n",
      "86173\n",
      "14190\n",
      "14800\n"
     ]
    }
   ],
   "source": [
    "for each in [-1,0,1,2,4]:\n",
    "    print(len(np.where(use_rv_flag==each)[0]))"
   ]
  },
  {
   "cell_type": "code",
   "execution_count": null,
   "metadata": {},
   "outputs": [],
   "source": []
  }
 ],
 "metadata": {
  "kernelspec": {
   "display_name": "Python 3",
   "language": "python",
   "name": "python3"
  },
  "language_info": {
   "codemirror_mode": {
    "name": "ipython",
    "version": 3
   },
   "file_extension": ".py",
   "mimetype": "text/x-python",
   "name": "python",
   "nbconvert_exporter": "python",
   "pygments_lexer": "ipython3",
   "version": "3.7.4"
  }
 },
 "nbformat": 4,
 "nbformat_minor": 2
}
