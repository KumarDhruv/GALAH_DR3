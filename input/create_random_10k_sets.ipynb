{
 "cells": [
  {
   "cell_type": "markdown",
   "metadata": {},
   "source": [
    "# Create subsets à 10000 spectra for full sample runs\n",
    "\n",
    "## Author(s): Sven Buder (SB, WG4)\n",
    "\n",
    "### History:\n",
    "180926 SB Created"
   ]
  },
  {
   "cell_type": "code",
   "execution_count": 12,
   "metadata": {},
   "outputs": [],
   "source": [
    "import numpy as np\n",
    "import astropy.io.fits as pyfits"
   ]
  },
  {
   "cell_type": "code",
   "execution_count": 13,
   "metadata": {},
   "outputs": [],
   "source": [
    "sobject_data = pyfits.getdata('sobject_iraf_53_2MASS_GaiaDR2_WISE_PanSTARRSDR1_BailerJones_K2seis.fits',1)"
   ]
  },
  {
   "cell_type": "markdown",
   "metadata": {},
   "source": [
    "## Apply quality cut: PLX available and FLAG_GUESS <= 8"
   ]
  },
  {
   "cell_type": "code",
   "execution_count": 14,
   "metadata": {},
   "outputs": [
    {
     "name": "stdout",
     "output_type": "stream",
     "text": [
      "initial set:           825531\n",
      "set after quality cut: 653137\n"
     ]
    }
   ],
   "source": [
    "print('initial set:           '+str(len(sobject_data)))\n",
    "quality_cut = np.isfinite(sobject_data['parallax']) & (sobject_data['flag_guess'] <= 8)\n",
    "sobject_data = sobject_data[quality_cut]\n",
    "print('set after quality cut: '+str(len(sobject_data)))"
   ]
  },
  {
   "cell_type": "markdown",
   "metadata": {},
   "source": [
    "## Shuffle sample and create subsets"
   ]
  },
  {
   "cell_type": "code",
   "execution_count": 21,
   "metadata": {},
   "outputs": [],
   "source": [
    "np.random.seed(783)\n",
    "shuffle = np.random.choice(len(sobject_data), len(sobject_data))\n",
    "sobject_data = sobject_data[shuffle]"
   ]
  },
  {
   "cell_type": "code",
   "execution_count": 22,
   "metadata": {},
   "outputs": [],
   "source": [
    "for each_subset in range(len(sobject_data)/10000+1):\n",
    "    \n",
    "    subset = sobject_data[each_subset*10000:np.min([(each_subset+1)*10000,len(sobject_data)])]\n",
    "    np.savetxt('10k_subsets/GALAH_10k_'+str(each_subset)+'_lbol',zip(['10k_'+str(each_subset)+'_lbol' for x in range(len(subset))],subset['sobject_id'],['DR3' for x in range(len(subset))]),fmt='%s')"
   ]
  }
 ],
 "metadata": {
  "kernelspec": {
   "display_name": "Python 2",
   "language": "python",
   "name": "python2"
  },
  "language_info": {
   "codemirror_mode": {
    "name": "ipython",
    "version": 2
   },
   "file_extension": ".py",
   "mimetype": "text/x-python",
   "name": "python",
   "nbconvert_exporter": "python",
   "pygments_lexer": "ipython2",
   "version": "2.7.15"
  }
 },
 "nbformat": 4,
 "nbformat_minor": 2
}
