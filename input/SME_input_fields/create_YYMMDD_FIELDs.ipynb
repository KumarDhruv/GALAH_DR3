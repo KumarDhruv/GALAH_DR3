{
 "cells": [
  {
   "cell_type": "markdown",
   "metadata": {},
   "source": [
    "# Create subsets to run on AVATAR on a date-by-date basis\n",
    "\n",
    "## Author(s): Sven Buder (SB, WG4)\n",
    "\n",
    "### History:\n",
    "180926 SB Created"
   ]
  },
  {
   "cell_type": "code",
   "execution_count": 1,
   "metadata": {},
   "outputs": [],
   "source": [
    "import numpy as np\n",
    "from astropy.table import Table"
   ]
  },
  {
   "cell_type": "code",
   "execution_count": 2,
   "metadata": {},
   "outputs": [],
   "source": [
    "sobject_data = Table.read('sobject_iraf_53_2MASS_GaiaDR2_WISE_PanSTARRSDR1_BailerJones_K2seis_small.fits')"
   ]
  },
  {
   "cell_type": "markdown",
   "metadata": {},
   "source": [
    "## Apply quality cut: PLX available and FLAG_GUESS <= 8"
   ]
  },
  {
   "cell_type": "code",
   "execution_count": 3,
   "metadata": {},
   "outputs": [
    {
     "name": "stdout",
     "output_type": "stream",
     "text": [
      "initial set:           871483\n",
      "set after quality cut: 694459\n"
     ]
    }
   ],
   "source": [
    "print('initial set:           '+str(len(sobject_data)))\n",
    "quality_cut = np.isfinite(sobject_data['parallax']) & (sobject_data['flag_guess'] <= 8)\n",
    "\n",
    "sobject_data = sobject_data[quality_cut]\n",
    "\n",
    "u1, sobject_data_index = np.unique(sobject_data['sobject_id'], return_index=True)\n",
    "\n",
    "sobject_data = sobject_data[sobject_data_index]\n",
    "print('set after quality cut: '+str(len(sobject_data)))"
   ]
  },
  {
   "cell_type": "markdown",
   "metadata": {},
   "source": [
    "Before 180131 this number was 652799.\n",
    "For the next runs, we run on a date-by-date basis, so everything after 180131"
   ]
  },
  {
   "cell_type": "code",
   "execution_count": 4,
   "metadata": {},
   "outputs": [
    {
     "name": "stdout",
     "output_type": "stream",
     "text": [
      "After 180131 after quality cut: 41660\n"
     ]
    }
   ],
   "source": [
    "post180131 = (sobject_data['sobject_id'] > 180131999900000)\n",
    "sobject_data = sobject_data[post180131]\n",
    "print('After 180131 after quality cut: '+str(len(sobject_data)))"
   ]
  },
  {
   "cell_type": "code",
   "execution_count": 5,
   "metadata": {},
   "outputs": [],
   "source": [
    "dates = np.unique(sobject_data['date'])"
   ]
  },
  {
   "cell_type": "code",
   "execution_count": 9,
   "metadata": {},
   "outputs": [
    {
     "data": {
      "text/plain": [
       "[180602,\n",
       " 180603,\n",
       " 180604,\n",
       " 180620,\n",
       " 180621,\n",
       " 180622,\n",
       " 180623,\n",
       " 180625,\n",
       " 180628,\n",
       " 181221,\n",
       " 181222,\n",
       " 181223,\n",
       " 181224,\n",
       " 181225,\n",
       " 181226,\n",
       " 190206,\n",
       " 190207,\n",
       " 190209,\n",
       " 190210,\n",
       " 190211,\n",
       " 190212,\n",
       " 190223,\n",
       " 190224,\n",
       " 190225]"
      ]
     },
     "execution_count": 9,
     "metadata": {},
     "output_type": "execute_result"
    }
   ],
   "source": [
    "[180602, 180603, 180604, 180620, 180621, 180622, 180623, 180625, 180628, 181221, 181222, 181223, 181224, 181225, 181226, 190206, 190207, 190209, 190210, 190211, 190212, 190223, 190224, 190225]"
   ]
  },
  {
   "cell_type": "markdown",
   "metadata": {},
   "source": [
    "## Create subsets for each date"
   ]
  },
  {
   "cell_type": "code",
   "execution_count": 7,
   "metadata": {},
   "outputs": [
    {
     "name": "stdout",
     "output_type": "stream",
     "text": [
      "180602 575\n",
      "180603 975\n",
      "180604 822\n",
      "180620 780\n",
      "180621 1653\n",
      "180622 1360\n",
      "180623 1351\n",
      "180625 2169\n",
      "180628 1938\n",
      "181221 2668\n",
      "181222 2393\n",
      "181223 2417\n",
      "181224 2368\n",
      "181225 2271\n",
      "181226 2292\n",
      "190206 1836\n",
      "190207 1205\n",
      "190209 1728\n",
      "190210 1908\n",
      "190211 1931\n",
      "190212 1307\n",
      "190223 1297\n",
      "190224 1902\n",
      "190225 2514\n"
     ]
    }
   ],
   "source": [
    "for date in dates:\n",
    "    subset = sobject_data[(sobject_data['date']==date)]\n",
    "    \n",
    "    print(date,len(subset))\n",
    "    \n",
    "    np.savetxt('YYMMDD/GALAH_'+str(date)+'_lbol',np.array([[str(date)+'_lbol' for x in range(len(subset))],subset['sobject_id'],['DR3' for x in range(len(subset))]]).T,fmt='%s')"
   ]
  },
  {
   "cell_type": "code",
   "execution_count": null,
   "metadata": {},
   "outputs": [],
   "source": []
  }
 ],
 "metadata": {
  "kernelspec": {
   "display_name": "Python 3",
   "language": "python",
   "name": "python3"
  },
  "language_info": {
   "codemirror_mode": {
    "name": "ipython",
    "version": 3
   },
   "file_extension": ".py",
   "mimetype": "text/x-python",
   "name": "python",
   "nbconvert_exporter": "python",
   "pygments_lexer": "ipython3",
   "version": "3.7.4"
  }
 },
 "nbformat": 4,
 "nbformat_minor": 2
}
