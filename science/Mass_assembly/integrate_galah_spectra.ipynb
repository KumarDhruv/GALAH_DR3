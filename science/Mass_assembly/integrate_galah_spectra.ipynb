{
 "cells": [
  {
   "cell_type": "markdown",
   "metadata": {},
   "source": [
    "# Script to integrate GALAH spectra\n",
    "\n",
    "## Author: Sven Buder (SB, MPIA) buder at mpia dot de\n",
    "\n",
    "This script is intended to integrate the 4 spectra of the arms of the HERMES spectrograph while mimicking the observation from a large vertical distance (0,0,Z) with respect to the Galactic plane\n",
    "\n",
    "History:\n",
    "    190118 - SB created"
   ]
  },
  {
   "cell_type": "code",
   "execution_count": null,
   "metadata": {
    "collapsed": true
   },
   "outputs": [],
   "source": [
    "try:\n",
    "    %matplotlib inline\n",
    "    %config InlineBackend.figure_format='retina'\n",
    "except:\n",
    "    pass\n",
    "\n",
    "# Basic packages\n",
    "import numpy as np\n",
    "import os\n",
    "import pandas\n",
    "import astropy.io.fits as pyfits\n",
    "from astropy.table import Table\n",
    "import matplotlib.pyplot as plt\n",
    "\n",
    "# Adjust directory you want to work in\n",
    "working_directory = '/shared-storage/buder/svn-repos/trunk/GALAH/'\n",
    "os.chdir(working_directory)"
   ]
  },
  {
   "cell_type": "markdown",
   "metadata": {},
   "source": [
    "### Select spectra that will be integrated"
   ]
  },
  {
   "cell_type": "code",
   "execution_count": null,
   "metadata": {},
   "outputs": [],
   "source": [
    "dynamics = pyfits.getdata('GALAH_DR3/dynamics/sobject_dynamics_65k.fits',1)\n",
    "\n",
    "useful_spectra = np.isfinite(dynamics['vz_Rzphi'])\n",
    "\n",
    "sobject_id = dynamics['sobject_id_1'][useful_spectra]\n",
    "v_z = dynamics['vz_Rzphi'][useful_spectra]\n",
    "dynamics = []"
   ]
  },
  {
   "cell_type": "markdown",
   "metadata": {},
   "source": [
    "### Definitions which will be executed in the last cell"
   ]
  },
  {
   "cell_type": "code",
   "execution_count": null,
   "metadata": {
    "collapsed": true
   },
   "outputs": [],
   "source": [
    "def read_spectra(sobject_id, v_z, iraf_dr = 'dr5.3', SPECTRA = 'SPECTRA'):\n",
    "    \"\"\"\n",
    "    This function reads in the 4 individual spectra from the subdirectory working_directory/SPECTRA\n",
    "    \n",
    "    INPUT:\n",
    "    sobject_id = identifier of spectra by date (6digits), plate (4digits), combination (2digits) and pivot number (3digits)\n",
    "    iraf_dr = reduction which shall be used, current version: dr5.3\n",
    "    SPECTRA = string to indicate sub directory where spectra are saved\n",
    "    \n",
    "    OUTPUT\n",
    "    spectrum = dictionary\n",
    "    \"\"\"\n",
    "    \n",
    "    spectrum = dict(sobject_id = sobject_id)\n",
    "    \n",
    "    # Assess if spectrum is stacked\n",
    "    if str(sobject_id)[11] == '1':\n",
    "        # Single observations are saved in 'com'\n",
    "        com='com'\n",
    "    else:\n",
    "        # Stacked observations are saved in 'com2'\n",
    "        com='com'   \n",
    "    \n",
    "    # Iterate through all 4 CCDs\n",
    "    for each_ccd in [1,2,3,4]:\n",
    "        \n",
    "        fits = pyfits.open(SPECTRA+'/'+iraf_dr+'/'+str(sobject_id)[0:6]+'/standard/'+com+'/'+str(sobject_id)+str(each_ccd)+'.fits')\n",
    "\n",
    "        # Extension 0: Reduced spectrum\n",
    "        # Extension 1: Relative error spectrum\n",
    "        # Extension 4: Normalised spectrum, NB: cut for CCD4\n",
    "\n",
    "        # Extract wavelength grid for the normalised spectrum\n",
    "        start_wavelength = fits[4].header[\"CRVAL1\"]\n",
    "        dispersion       = fits[4].header[\"CDELT1\"]\n",
    "        nr_pixels        = fits[4].header[\"NAXIS1\"]\n",
    "        reference_pixel  = fits[4].header[\"CRPIX1\"]\n",
    "        if reference_pixel == 0:\n",
    "            reference_pixel=1\n",
    "            \n",
    "        lambda_0 = np.array(map(lambda x:((x-reference_pixel+1)*dispersion+start_wavelength),range(0,nr_pixels)))\n",
    "        \n",
    "        spectrum['wave_norm_'+str(each_ccd)] = lambda_0 * (1. + v_z/299792.)\n",
    "        \n",
    "        # Extract flux and flux error of reduced spectrum\n",
    "        spectrum['sob_norm_'+str(each_ccd)] = np.array(fits[4].data)\n",
    "        if each_ccd != 4:\n",
    "            spectrum['uob_norm_'+str(each_ccd)] = np.array(fits[4].data * fits[1].data)\n",
    "        else:\n",
    "            # for normalised error of CCD4, only used appropriate parts of error spectrum\n",
    "            spectrum['uob_norm_4'] = np.array(fits[4].data * (fits[1].data)[-len(spectrum['sob_norm_4']):])\n",
    "            \n",
    "        fits.close()\n",
    "        \n",
    "    return spectrum"
   ]
  },
  {
   "cell_type": "code",
   "execution_count": null,
   "metadata": {
    "collapsed": true
   },
   "outputs": [],
   "source": [
    "# The integrated wavelength grid as used for GALAH DR2\n",
    "wave_integrated = dict()\n",
    "wave_integrated['ccd1'] = np.arange(4715.94,4896.00,0.046)\n",
    "wave_integrated['ccd2'] = np.arange(5650.06,5868.25,0.055)\n",
    "wave_integrated['ccd3'] = np.arange(6480.52,6733.92,0.064)\n",
    "wave_integrated['ccd4'] = np.arange(7693.50,7875.55,0.074)"
   ]
  },
  {
   "cell_type": "code",
   "execution_count": null,
   "metadata": {
    "collapsed": true
   },
   "outputs": [],
   "source": [
    "def interpolate_spectrum_onto_same_wavelength(spectrum, wave_integrated = wave_integrated):\n",
    "    \"\"\"\n",
    "    This function interpolates the spectrum \n",
    "    onto the wavelength grid of The Cannon as used for GALAH DR2\n",
    "    \n",
    "    INPUT:\n",
    "    spectrum dictionary\n",
    "    \n",
    "    OUTPUT:\n",
    "    interpolated spectrum dictionary\n",
    "    \n",
    "    \"\"\"\n",
    "    \n",
    "    # Initialise interpolated spectrum from input spectrum\n",
    "    interpolated_spectrum = dict()\n",
    "    for each_key in spectrum.keys():\n",
    "        interpolated_spectrum[each_key] = spectrum[each_key]\n",
    "    \n",
    "    for each_ccd in [1, 2, 3, 4]:\n",
    "        \n",
    "        # exchange wavelength\n",
    "        interpolated_spectrum['wave_norm_'+str(each_ccd)] = wave_integrated['ccd'+str(each_ccd)]\n",
    "        \n",
    "        # interpolate and exchange flux\n",
    "        interpolated_spectrum['sob_norm_'+str(each_ccd)]  = np.interp(\n",
    "            wave_integrated['ccd'+str(each_ccd)],\n",
    "            spectrum['wave_norm_'+str(each_ccd)],\n",
    "            spectrum['sob_norm_'+str(each_ccd)],\n",
    "            )\n",
    "\n",
    "        # interpolate and exchange flux error\n",
    "        interpolated_spectrum['uob_norm_'+str(each_ccd)]  = np.interp(\n",
    "            wave_integrated['ccd'+str(each_ccd)],\n",
    "            spectrum['wave_norm_'+str(each_ccd)],\n",
    "            spectrum['uob_norm_'+str(each_ccd)],\n",
    "            )\n",
    "\n",
    "    return interpolated_spectrum"
   ]
  },
  {
   "cell_type": "code",
   "execution_count": null,
   "metadata": {
    "scrolled": false
   },
   "outputs": [],
   "source": [
    "wave_min = {}\n",
    "wave_max = {}\n",
    "wave_min['ccd1'] = []\n",
    "wave_min['ccd2'] = []\n",
    "wave_min['ccd3'] = []\n",
    "wave_min['ccd4'] = []\n",
    "wave_max['ccd1'] = []\n",
    "wave_max['ccd2'] = []\n",
    "wave_max['ccd3'] = []\n",
    "wave_max['ccd4'] = []\n",
    "\n",
    "sob_integrated = {}\n",
    "uob_integrated = {}\n",
    "\n",
    "for each_ccd in [1,2,3,4]:\n",
    "    sob_integrated['ccd'+str(each_ccd)] = []\n",
    "    uob_integrated['ccd'+str(each_ccd)] = []\n",
    "    \n",
    "nr_spectra_useful = 0\n",
    "\n",
    "for (each_sobject_id, each_vz) in zip(sobject_id, v_z):\n",
    "    try:\n",
    "        spectrum = read_spectra(each_sobject_id, each_vz)\n",
    "        for each_ccd in [1,2,3,4]:\n",
    "            wave_min['ccd'+str(each_ccd)].append(np.min(spectrum['wave_norm_'+str(each_ccd)]))\n",
    "            wave_max['ccd'+str(each_ccd)].append(np.max(spectrum['wave_norm_'+str(each_ccd)]))\n",
    "\n",
    "        inerpolated_spectrum = interpolate_spectrum_onto_same_wavelength(spectrum)\n",
    "\n",
    "        for each_ccd in [1,2,3,4]:\n",
    "\n",
    "            clipped = inerpolated_spectrum['sob_norm_'+str(each_ccd)]\n",
    "            clipped.clip(min=0., max=1.3, out=clipped)\n",
    "\n",
    "            sob_integrated['ccd'+str(each_ccd)].append(clipped)\n",
    "            uob_integrated['ccd'+str(each_ccd)].append(inerpolated_spectrum['uob_norm_'+str(each_ccd)])\n",
    "\n",
    "        nr_spectra_useful+=1\n",
    "\n",
    "    except:\n",
    "        pass"
   ]
  },
  {
   "cell_type": "code",
   "execution_count": null,
   "metadata": {},
   "outputs": [],
   "source": [
    "median_flux = {}\n",
    "mean_flux = {}\n",
    "release_data = {}\n",
    "\n",
    "for each_ccd in [1,2,3,4]:\n",
    "    sob_integrated['ccd'+str(each_ccd)] = np.array(sob_integrated['ccd'+str(each_ccd)])\n",
    "    uob_integrated['ccd'+str(each_ccd)] = np.array(uob_integrated['ccd'+str(each_ccd)])\n",
    "    \n",
    "    mean_flux['ccd'+str(each_ccd)] = np.array([np.mean(sob_integrated['ccd'+str(each_ccd)][:,x]) for x in range(np.shape(sob_integrated['ccd'+str(each_ccd)])[1])])\n",
    "    median_flux['ccd'+str(each_ccd)] = np.array([np.median(sob_integrated['ccd'+str(each_ccd)][:,x]) for x in range(np.shape(sob_integrated['ccd'+str(each_ccd)])[1])])\n",
    "    \n",
    "release_data['wavelength'] = np.concatenate(([wave_integrated['ccd1'],wave_integrated['ccd2'],wave_integrated['ccd3'],wave_integrated['ccd4']]))\n",
    "release_data['mean_flux'] = np.concatenate(([mean_flux['ccd1'],mean_flux['ccd2'],mean_flux['ccd3'],mean_flux['ccd4']]))\n",
    "release_data['median_flux'] = np.concatenate(([median_flux['ccd1'],median_flux['ccd2'],median_flux['ccd3'],median_flux['ccd4']]))"
   ]
  },
  {
   "cell_type": "code",
   "execution_count": null,
   "metadata": {
    "scrolled": false
   },
   "outputs": [],
   "source": [
    "plt.figure(figsize=(15,5))\n",
    "\n",
    "for each_ccd in [1,2,3,4]:\n",
    "    ax = plt.subplot(1,4,each_ccd)\n",
    "    \n",
    "    ax.plot(\n",
    "        wave_integrated['ccd'+str(each_ccd)],\n",
    "        mean_flux['ccd'+str(each_ccd)],\n",
    "        label='Mean Flux'\n",
    "    )\n",
    "    ax.plot(\n",
    "        wave_integrated['ccd'+str(each_ccd)],\n",
    "        median_flux['ccd'+str(each_ccd)],\n",
    "        label='Median Flux'\n",
    "    )\n",
    "    \n",
    "    if each_ccd in [2,3,4]:\n",
    "        ax.set_yticks([])\n",
    "    else:\n",
    "        ax.set_ylabel('Norm. Flux')\n",
    "    ax.set_xlabel(r'Wavelength [$\\mathrm{\\AA}$]')\n",
    "    ax.set_ylim(0,1.2)\n",
    "    if each_ccd == 1:\n",
    "        ax.legend(loc='lower left')\n",
    "plt.tight_layout(h_pad=0.)\n",
    "plt.savefig('GALAH_DR3/science/Mass_assembly/Integrated_GALAH_spectrum_XYZ_i0deg.pdf')\n",
    "\n",
    "release_pandas = pandas.DataFrame(release_data,columns=release_data.keys())\n",
    "release_astropy = Table.from_pandas(release_pandas)\n",
    "release_astropy.write('GALAH_DR3/science/Mass_assembly/Integrated_GALAH_spectrum_XYZ_i0deg.fits',overwrite=True)"
   ]
  },
  {
   "cell_type": "code",
   "execution_count": null,
   "metadata": {},
   "outputs": [],
   "source": [
    "import smtplib\n",
    "\n",
    "sender = 'buder@mpia.de'\n",
    "receivers = ['buder@mpia.de']\n",
    "\n",
    "message = \"\"\"From: Gemini2\n",
    "To: buder@mpia.de\n",
    "Subject: Integrating spectra finished\n",
    "\"\"\"\n",
    "\n",
    "try:\n",
    "    smtpObj = smtplib.SMTP('localhost')\n",
    "    smtpObj.sendmail(sender, receivers, message)         \n",
    "    print(\"Successfully sent email\")\n",
    "except SMTPException:\n",
    "    print(\"Error: unable to send email\")"
   ]
  }
 ],
 "metadata": {
  "kernelspec": {
   "display_name": "Python 2",
   "language": "python",
   "name": "python2"
  },
  "language_info": {
   "codemirror_mode": {
    "name": "ipython",
    "version": 2
   },
   "file_extension": ".py",
   "mimetype": "text/x-python",
   "name": "python",
   "nbconvert_exporter": "python",
   "pygments_lexer": "ipython2",
   "version": "2.7.15"
  }
 },
 "nbformat": 4,
 "nbformat_minor": 2
}
