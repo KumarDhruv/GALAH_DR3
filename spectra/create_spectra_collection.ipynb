{
 "cells": [
  {
   "cell_type": "code",
   "execution_count": 223,
   "metadata": {},
   "outputs": [],
   "source": [
    "import numpy as np\n",
    "import os\n",
    "from os import path\n",
    "import collections\n",
    "from astropy.io import fits\n",
    "from astropy.table import Table\n",
    "from scipy.io.idl import readsav"
   ]
  },
  {
   "cell_type": "code",
   "execution_count": 224,
   "metadata": {},
   "outputs": [],
   "source": [
    "try:\n",
    "    data = Table.read('DATA/GALAH_iDR3_main_test.fits')\n",
    "except:\n",
    "    data = Table.read('../catalogs/GALAH_iDR3_main_test.fits')"
   ]
  },
  {
   "cell_type": "code",
   "execution_count": 227,
   "metadata": {},
   "outputs": [],
   "source": [
    "try:\n",
    "    mode = np.genfromtxt('mode_DR3',usecols=(0,),dtype=str,comments=';')\n",
    "except:\n",
    "    mode = np.genfromtxt('../input/mode_DR3',usecols=(0,),dtype=str,comments=';')\n",
    "indexes = np.unique(mode, return_index=True)[1]\n",
    "mode = [mode[index] for index in sorted(indexes)]"
   ]
  },
  {
   "cell_type": "code",
   "execution_count": 228,
   "metadata": {},
   "outputs": [],
   "source": [
    "def get_content(data_each, mode_each):\n",
    "    \"\"\"                                                                                                                                                                                                                   \n",
    "    Get the spectrum information for each mode for each sobject_id into one                                                                                                                                               \n",
    "    FITS file                                                                                                                                                                                                             \n",
    "                                                                                                                                                                                                                          \n",
    "    INPUT:                                                                                                                                                                                                                \n",
    "    data_each : catalog entry from DR3 fits file                                                                                                                                                                          \n",
    "    \"\"\"\n",
    "    content = collections.OrderedDict()\n",
    "    content['wave'] = [np.NaN]\n",
    "    content['sob'] = [np.NaN]\n",
    "    content['uob'] = [np.NaN]\n",
    "    content['smod'] = [np.NaN]\n",
    "\n",
    "    file_exists = True\n",
    "\n",
    "    try:\n",
    "        sme = readsav((data_each['wg4_field']).replace(' ','')+'_'+str(data_each['sobject_id'])+'_DR3_'+mode_each+'_SME.out').sme[0]\n",
    "        #sme = readsav('SMALL_OUTPUT/'+mode_each+'/OUTPUT_'+(data_each['wg4_field']).replace(' ','')+'/'+(data_each['wg4_field']).replace(' ','')+'_'+str(data_each['sobject_id'])+'_DR3_'+mode_each+'_SME.out').sme[0]\n",
    "    except:\n",
    "        try:\n",
    "            sme = readsav('OUTPUT_'+(data_each['wg4_field']).replace(' ','')+'/'+(data_each['wg4_field']).replace(' ','')+'_'+str(data_each['sobject_id'])+'_DR3_'+mode_each+'_SME.out').sme[0]\n",
    "        except:\n",
    "            file_exists = False\n",
    "\n",
    "    if file_exists:\n",
    "        content['wave'] = sme.wave\n",
    "        content['sob'] = sme.sob\n",
    "        content['uob'] = sme.uob\n",
    "        content['smod'] = sme.smod\n",
    "\n",
    "    return(content)"
   ]
  },
  {
   "cell_type": "code",
   "execution_count": 233,
   "metadata": {
    "scrolled": false
   },
   "outputs": [
    {
     "name": "stdout",
     "output_type": "stream",
     "text": [
      "0 5\n"
     ]
    }
   ],
   "source": [
    "for ind,data_each in enumerate(data):\n",
    "    \n",
    "    if ind%100==0:\n",
    "        print(ind,len(data))\n",
    "\n",
    "    new_hdul = fits.HDUList()\n",
    "\n",
    "    cols = []\n",
    "    \n",
    "    for key in data_each.dtype.names:\n",
    "        key_dtype = np.array(data_each[key]).dtype\n",
    "        if str(key_dtype)[:2] == '<U':\n",
    "            key_dtype = str(key_dtype).replace('<','')\n",
    "        if str(key_dtype)[:1] == 'U':\n",
    "            key_dtype = str(key_dtype).replace('U','A')\n",
    "        else:\n",
    "            key_dtype = key_dtype\n",
    "            \n",
    "        cols.append(fits.Column(name=key,format=key_dtype,array=[data_each[key]]))\n",
    "        \n",
    "    new_hdul.append(fits.BinTableHDU.from_columns(cols))\n",
    "\n",
    "    for mode_each in mode:\n",
    "        content = get_content(data_each, mode_each)\n",
    "\n",
    "        col1 = fits.Column(name='wave',format='F',array=content['wave'])\n",
    "        col2 = fits.Column(name='sob', format='F',array=content['sob'])\n",
    "        col3 = fits.Column(name='uob', format='F',array=content['uob'])\n",
    "        col4 = fits.Column(name='smod',format='F',array=content['smod'])\n",
    "\n",
    "        new_hdul.append(fits.BinTableHDU.from_columns([col1,col2,col3,col4]))\n",
    "\n",
    "    if not path.exists('SPECTRA_COLLECTION/'+str(data_each['sobject_id'])[:6]):\n",
    "        os.system('mkdir SPECTRA_COLLECTION/'+str(data_each['sobject_id'])[:6])\n",
    "        \n",
    "    new_hdul.writeto('SPECTRA_COLLECTION/'+str(data_each['sobject_id'])[:6]+'/DR3_'+str(data_each['sobject_id'])+'.fits', overwrite=True)\n",
    "    "
   ]
  }
 ],
 "metadata": {
  "kernelspec": {
   "display_name": "Python 3",
   "language": "python",
   "name": "python3"
  },
  "language_info": {
   "codemirror_mode": {
    "name": "ipython",
    "version": 3
   },
   "file_extension": ".py",
   "mimetype": "text/x-python",
   "name": "python",
   "nbconvert_exporter": "python",
   "pygments_lexer": "ipython3",
   "version": "3.7.4"
  }
 },
 "nbformat": 4,
 "nbformat_minor": 2
}
