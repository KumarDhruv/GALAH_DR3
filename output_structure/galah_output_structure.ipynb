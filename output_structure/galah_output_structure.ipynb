{
 "cells": [
  {
   "cell_type": "markdown",
   "metadata": {},
   "source": [
    "# Output structure for GALAH DR3\n",
    "\n",
    "## Author(s): Sven Buder (SB, WG4)\n",
    "\n",
    "### History:\n",
    "180926 SB Created"
   ]
  },
  {
   "cell_type": "code",
   "execution_count": 1,
   "metadata": {
    "code_folding": [
     0
    ]
   },
   "outputs": [],
   "source": [
    "# Preamble for notebook \n",
    "\n",
    "# Compatibility with Python 3\n",
    "from __future__ import (absolute_import, division, print_function)\n",
    "\n",
    "try:\n",
    "    %matplotlib inline\n",
    "    %config InlineBackend.figure_format='retina'\n",
    "except:\n",
    "    pass\n",
    "\n",
    "# Basic packages\n",
    "import numpy as np\n",
    "np.seterr(divide='ignore', invalid='ignore')\n",
    "import os\n",
    "import sys\n",
    "import collections\n",
    "import glob\n",
    "import pickle\n",
    "import pandas\n",
    "\n",
    "# Packages to work with FITS and (IDL) SME.out files\n",
    "import astropy.io.fits as pyfits\n",
    "import astropy.table as table\n",
    "from astropy.table import Table\n",
    "from scipy.io.idl import readsav\n",
    "\n",
    "# Matplotlib and associated packages for plotting\n",
    "import matplotlib\n",
    "import matplotlib.pyplot as plt\n",
    "from matplotlib.colors import LogNorm\n",
    "from matplotlib.transforms import Bbox,TransformedBbox\n",
    "from matplotlib.image import BboxImage\n",
    "from matplotlib.legend_handler import HandlerBase\n",
    "from matplotlib._png import read_png\n",
    "from matplotlib.backends.backend_pdf import PdfPages\n",
    "from matplotlib.colors import ListedColormap\n",
    "import matplotlib.colors as colors\n",
    "\n",
    "params = {\n",
    "    'font.family'        : 'sans',\n",
    "    'font.size'          : 17,\n",
    "    'axes.labelsize'     : 20,\n",
    "    'ytick.labelsize'    : 16,\n",
    "    'xtick.labelsize'    : 16,\n",
    "    'legend.fontsize'    : 20,\n",
    "    'text.usetex'        : True, \n",
    "    'text.latex.preamble': [r'\\usepackage{upgreek}', r'\\usepackage{amsmath}'],\n",
    "    }   \n",
    "plt.rcParams.update(params)\n",
    "\n",
    "_parula_data = [[0.2081, 0.1663, 0.5292], \n",
    "                [0.2116238095, 0.1897809524, 0.5776761905], \n",
    "                [0.212252381, 0.2137714286, 0.6269714286], \n",
    "                [0.2081, 0.2386, 0.6770857143], \n",
    "                [0.1959047619, 0.2644571429, 0.7279], \n",
    "                [0.1707285714, 0.2919380952, 0.779247619], \n",
    "                [0.1252714286, 0.3242428571, 0.8302714286], \n",
    "                [0.0591333333, 0.3598333333, 0.8683333333], \n",
    "                [0.0116952381, 0.3875095238, 0.8819571429], \n",
    "                [0.0059571429, 0.4086142857, 0.8828428571], \n",
    "                [0.0165142857, 0.4266, 0.8786333333], \n",
    "                [0.032852381, 0.4430428571, 0.8719571429], \n",
    "                [0.0498142857, 0.4585714286, 0.8640571429], \n",
    "                [0.0629333333, 0.4736904762, 0.8554380952], \n",
    "                [0.0722666667, 0.4886666667, 0.8467], \n",
    "                [0.0779428571, 0.5039857143, 0.8383714286], \n",
    "                [0.079347619, 0.5200238095, 0.8311809524], \n",
    "                [0.0749428571, 0.5375428571, 0.8262714286], \n",
    "                [0.0640571429, 0.5569857143, 0.8239571429], \n",
    "                [0.0487714286, 0.5772238095, 0.8228285714], \n",
    "                [0.0343428571, 0.5965809524, 0.819852381], \n",
    "                [0.0265, 0.6137, 0.8135], \n",
    "                [0.0238904762, 0.6286619048, 0.8037619048], \n",
    "                [0.0230904762, 0.6417857143, 0.7912666667], \n",
    "                [0.0227714286, 0.6534857143, 0.7767571429], \n",
    "                [0.0266619048, 0.6641952381, 0.7607190476], \n",
    "                [0.0383714286, 0.6742714286, 0.743552381], \n",
    "                [0.0589714286, 0.6837571429, 0.7253857143], \n",
    "                [0.0843, 0.6928333333, 0.7061666667], \n",
    "                [0.1132952381, 0.7015, 0.6858571429], \n",
    "                [0.1452714286, 0.7097571429, 0.6646285714], \n",
    "                [0.1801333333, 0.7176571429, 0.6424333333], \n",
    "                [0.2178285714, 0.7250428571, 0.6192619048], \n",
    "                [0.2586428571, 0.7317142857, 0.5954285714], \n",
    "                [0.3021714286, 0.7376047619, 0.5711857143], \n",
    "                [0.3481666667, 0.7424333333, 0.5472666667], \n",
    "                [0.3952571429, 0.7459, 0.5244428571], \n",
    "                [0.4420095238, 0.7480809524, 0.5033142857], \n",
    "                [0.4871238095, 0.7490619048, 0.4839761905], \n",
    "                [0.5300285714, 0.7491142857, 0.4661142857], \n",
    "                [0.5708571429, 0.7485190476, 0.4493904762],\n",
    "                [0.609852381, 0.7473142857, 0.4336857143], \n",
    "                [0.6473, 0.7456, 0.4188], \n",
    "                [0.6834190476, 0.7434761905, 0.4044333333], \n",
    "                [0.7184095238, 0.7411333333, 0.3904761905], \n",
    "                [0.7524857143, 0.7384, 0.3768142857], \n",
    "                [0.7858428571, 0.7355666667, 0.3632714286], \n",
    "                [0.8185047619, 0.7327333333, 0.3497904762], \n",
    "                [0.8506571429, 0.7299, 0.3360285714], \n",
    "                [0.8824333333, 0.7274333333, 0.3217], \n",
    "                [0.9139333333, 0.7257857143, 0.3062761905], \n",
    "                [0.9449571429, 0.7261142857, 0.2886428571], \n",
    "                [0.9738952381, 0.7313952381, 0.266647619], \n",
    "                [0.9937714286, 0.7454571429, 0.240347619], \n",
    "                [0.9990428571, 0.7653142857, 0.2164142857], \n",
    "                [0.9955333333, 0.7860571429, 0.196652381], \n",
    "                [0.988, 0.8066, 0.1793666667], \n",
    "                [0.9788571429, 0.8271428571, 0.1633142857], \n",
    "                [0.9697, 0.8481380952, 0.147452381], \n",
    "                [0.9625857143, 0.8705142857, 0.1309], \n",
    "                [0.9588714286, 0.8949, 0.1132428571], \n",
    "                [0.9598238095, 0.9218333333, 0.0948380952], \n",
    "                [0.9661, 0.9514428571, 0.0755333333], \n",
    "                [0.9763, 0.9831, 0.0538]]\n",
    "\n",
    "parula = ListedColormap(_parula_data, name='parula')\n",
    "parula_zero = _parula_data[0]\n",
    "parula_0 = ListedColormap(_parula_data, name='parula_0')\n",
    "parula_0.set_bad((1,1,1))\n",
    "parula_r = ListedColormap(_parula_data[::-1], name='parula_r')\n",
    "\n",
    "willi_blau = [0.0722666667, 0.4886666667, 0.8467]"
   ]
  },
  {
   "cell_type": "markdown",
   "metadata": {},
   "source": [
    "## Initialize GALAH DR3 output structure"
   ]
  },
  {
   "cell_type": "code",
   "execution_count": 2,
   "metadata": {},
   "outputs": [],
   "source": [
    "release_data = collections.OrderedDict()"
   ]
  },
  {
   "cell_type": "markdown",
   "metadata": {},
   "source": [
    "## Identifier"
   ]
  },
  {
   "cell_type": "code",
   "execution_count": 3,
   "metadata": {},
   "outputs": [],
   "source": [
    "release_data['star_id'] = np.array(['JHHMMSSss+DDMMSSs'])\n",
    "release_data['sobject_id'] = np.array([112233123401123])\n",
    "release_data['source_id'] = np.array([1234567891234567890])\n",
    "# release_data['ndfclass'] = np.array([123123123123])\n",
    "# release_data['field_id'] = np.array([1234])"
   ]
  },
  {
   "cell_type": "markdown",
   "metadata": {},
   "source": [
    "# WG4 information"
   ]
  },
  {
   "cell_type": "code",
   "execution_count": 4,
   "metadata": {},
   "outputs": [],
   "source": [
    "release_data['wg4_field'] = np.array(['test'])\n",
    "release_data['wg4_pipeline'] = np.array(['lbol'])\n",
    "release_data['wg4_sp_flag'] = np.array([0])"
   ]
  },
  {
   "cell_type": "code",
   "execution_count": 5,
   "metadata": {},
   "outputs": [],
   "source": [
    "solar_values = pyfits.getdata('../abundance_zeropoints/galahdr3_abundance_zeropoints.fits',1)"
   ]
  },
  {
   "cell_type": "code",
   "execution_count": 6,
   "metadata": {},
   "outputs": [],
   "source": [
    "for each_solar_value in solar_values.dtype.names:\n",
    "    release_data[each_solar_value] = solar_values[each_solar_value][0]\n",
    "    if each_solar_value not in ['chi2_sp']:\n",
    "        release_data['e_'+each_solar_value] = solar_values[each_solar_value][1]\n",
    "        if each_solar_value in ['teff', 'logg', 'fe_h_atmo', 'vbroad', 'alpha_fe']:\n",
    "            release_data['cov_e_'+each_solar_value] = 0.00\n",
    "    if each_solar_value[0:2] == 'A_':\n",
    "        release_data[each_solar_value[2:]+'_fe'] = 0.00\n",
    "        release_data['e_'+each_solar_value[2:]+'_fe'] = 0.00\n",
    "        \n",
    "        release_data['flag_'+each_solar_value] = 0\n",
    "        release_data['chi2_'+each_solar_value] = 0.00\n",
    "        release_data['flux_'+each_solar_value] = 0.00"
   ]
  },
  {
   "cell_type": "markdown",
   "metadata": {},
   "source": [
    "## 6D information"
   ]
  },
  {
   "cell_type": "code",
   "execution_count": 7,
   "metadata": {},
   "outputs": [],
   "source": [
    "release_data['ra'] = np.array([0.00])\n",
    "release_data['ra_error'] = np.array([0.00])\n",
    "\n",
    "release_data['dec'] = np.array([0.00])\n",
    "release_data['dec_error'] = np.array([0.00])\n",
    "\n",
    "release_data['r_est'] = np.array([0.00])\n",
    "release_data['r_lo'] = np.array([0.00])\n",
    "release_data['r_hi'] = np.array([0.00])\n",
    "\n",
    "release_data['r_hi'] = np.array([0.00])\n",
    "release_data['r_hi'] = np.array([0.00])\n",
    "\n",
    "release_data['r_hi'] = np.array([0.00])\n",
    "release_data['r_hi'] = np.array([0.00])\n",
    "\n",
    "release_data['rv_galah'] = np.array([0.00])\n",
    "release_data['e_rv_galah'] = np.array([0.00])\n",
    "release_data['c_rv_galah'] = np.array([0.00])\n",
    "release_data['rv_gaia'] = np.array([0.00])\n",
    "release_data['e_rv_gaia'] = np.array([0.00])"
   ]
  },
  {
   "cell_type": "markdown",
   "metadata": {},
   "source": [
    "## WG3 information"
   ]
  },
  {
   "cell_type": "code",
   "execution_count": 8,
   "metadata": {},
   "outputs": [],
   "source": [
    "release_data['red_flag'] = np.array([0])\n",
    "release_data['ebv'] = np.array([0.00])\n",
    "release_data['snr_c2_iraf'] = np.array([0.00])\n",
    "\n",
    "release_data['flag_guess'] = np.array([0])\n",
    "release_data['rv_guess'] = np.array([0.00])\n",
    "release_data['e_rv_guess'] = np.array([0.00])\n",
    "release_data['teff_guess'] = np.array([0.00])\n",
    "release_data['logg_guess'] = np.array([0.00])\n",
    "release_data['feh_guess'] = np.array([0.00])"
   ]
  },
  {
   "cell_type": "markdown",
   "metadata": {},
   "source": [
    "## 2MASS information"
   ]
  },
  {
   "cell_type": "code",
   "execution_count": 9,
   "metadata": {},
   "outputs": [],
   "source": [
    "release_data['j_m'] = np.array([0.00])\n",
    "release_data['j_msigcom'] = np.array([0.00])\n",
    "release_data['h_m'] = np.array([0.00])\n",
    "release_data['h_msigcom'] = np.array([0.00])\n",
    "release_data['ks_m'] = np.array([0.00])\n",
    "release_data['ks_msigcom'] = np.array([0.00])\n",
    "release_data['ph_qual_tmass'] = np.array(['AAA'])"
   ]
  },
  {
   "cell_type": "markdown",
   "metadata": {},
   "source": [
    "## WISE and auxiliary information"
   ]
  },
  {
   "cell_type": "code",
   "execution_count": 10,
   "metadata": {},
   "outputs": [],
   "source": [
    "release_data['w2mpro'] = np.array([0.00])\n",
    "release_data['w2mpro_error'] = np.array([0.00])\n",
    "release_data['ph_qual_wise'] = np.array(['AAAA'])\n",
    "release_data['a_ks'] = np.array([0.00])\n",
    "release_data['e_a_ks'] = np.array([0.00])"
   ]
  },
  {
   "cell_type": "markdown",
   "metadata": {},
   "source": [
    "## Additional Gaia information"
   ]
  },
  {
   "cell_type": "code",
   "execution_count": 11,
   "metadata": {},
   "outputs": [],
   "source": [
    "release_data['parallax'] = np.array([0.00])\n",
    "release_data['parallax_error'] = np.array([0.00])\n",
    "release_data['astrometric_excess_noise_sig'] = np.array([0.00])\n",
    "release_data['astrometric_matched_observations'] = np.array([0])\n",
    "\n",
    "release_data['phot_g_mean_mag'] = np.array([0.00])\n",
    "release_data['bp_rp'] = np.array([0.00])"
   ]
  },
  {
   "cell_type": "markdown",
   "metadata": {},
   "source": [
    "## Save GALAH DR3 output structure"
   ]
  },
  {
   "cell_type": "code",
   "execution_count": 12,
   "metadata": {},
   "outputs": [
    {
     "data": {
      "text/html": [
       "<div>\n",
       "<style scoped>\n",
       "    .dataframe tbody tr th:only-of-type {\n",
       "        vertical-align: middle;\n",
       "    }\n",
       "\n",
       "    .dataframe tbody tr th {\n",
       "        vertical-align: top;\n",
       "    }\n",
       "\n",
       "    .dataframe thead th {\n",
       "        text-align: right;\n",
       "    }\n",
       "</style>\n",
       "<table border=\"1\" class=\"dataframe\">\n",
       "  <thead>\n",
       "    <tr style=\"text-align: right;\">\n",
       "      <th></th>\n",
       "      <th>star_id</th>\n",
       "      <th>sobject_id</th>\n",
       "      <th>source_id</th>\n",
       "      <th>wg4_field</th>\n",
       "      <th>wg4_pipeline</th>\n",
       "      <th>wg4_sp_flag</th>\n",
       "      <th>teff</th>\n",
       "      <th>e_teff</th>\n",
       "      <th>cov_e_teff</th>\n",
       "      <th>logg</th>\n",
       "      <th>...</th>\n",
       "      <th>w2mpro_error</th>\n",
       "      <th>ph_qual_wise</th>\n",
       "      <th>a_ks</th>\n",
       "      <th>e_a_ks</th>\n",
       "      <th>parallax</th>\n",
       "      <th>parallax_error</th>\n",
       "      <th>astrometric_excess_noise_sig</th>\n",
       "      <th>astrometric_matched_observations</th>\n",
       "      <th>phot_g_mean_mag</th>\n",
       "      <th>bp_rp</th>\n",
       "    </tr>\n",
       "  </thead>\n",
       "  <tbody>\n",
       "    <tr>\n",
       "      <th>0</th>\n",
       "      <td>JHHMMSSss+DDMMSSs</td>\n",
       "      <td>112233123401123</td>\n",
       "      <td>1234567891234567890</td>\n",
       "      <td>test</td>\n",
       "      <td>lbol</td>\n",
       "      <td>0</td>\n",
       "      <td>5779.0</td>\n",
       "      <td>104.0</td>\n",
       "      <td>0.0</td>\n",
       "      <td>4.42</td>\n",
       "      <td>...</td>\n",
       "      <td>0.0</td>\n",
       "      <td>AAAA</td>\n",
       "      <td>0.0</td>\n",
       "      <td>0.0</td>\n",
       "      <td>0.0</td>\n",
       "      <td>0.0</td>\n",
       "      <td>0.0</td>\n",
       "      <td>0</td>\n",
       "      <td>0.0</td>\n",
       "      <td>0.0</td>\n",
       "    </tr>\n",
       "  </tbody>\n",
       "</table>\n",
       "<p>1 rows × 589 columns</p>\n",
       "</div>"
      ],
      "text/plain": [
       "             star_id       sobject_id            source_id wg4_field  \\\n",
       "0  JHHMMSSss+DDMMSSs  112233123401123  1234567891234567890      test   \n",
       "\n",
       "  wg4_pipeline  wg4_sp_flag    teff  e_teff  cov_e_teff  logg  ...    \\\n",
       "0         lbol            0  5779.0   104.0         0.0  4.42  ...     \n",
       "\n",
       "   w2mpro_error  ph_qual_wise  a_ks  e_a_ks  parallax  parallax_error  \\\n",
       "0           0.0          AAAA   0.0     0.0       0.0             0.0   \n",
       "\n",
       "   astrometric_excess_noise_sig  astrometric_matched_observations  \\\n",
       "0                           0.0                                 0   \n",
       "\n",
       "   phot_g_mean_mag  bp_rp  \n",
       "0              0.0    0.0  \n",
       "\n",
       "[1 rows x 589 columns]"
      ]
     },
     "execution_count": 12,
     "metadata": {},
     "output_type": "execute_result"
    }
   ],
   "source": [
    "release_pandas = pandas.DataFrame(release_data,columns=release_data.keys())\n",
    "release_astropy = Table.from_pandas(release_pandas)\n",
    "release_astropy.write('galah_dr3_output_structure.fits',overwrite=True)\n",
    "release_pandas"
   ]
  }
 ],
 "metadata": {
  "kernelspec": {
   "display_name": "Python 2",
   "language": "python",
   "name": "python2"
  },
  "language_info": {
   "codemirror_mode": {
    "name": "ipython",
    "version": 2
   },
   "file_extension": ".py",
   "mimetype": "text/x-python",
   "name": "python",
   "nbconvert_exporter": "python",
   "pygments_lexer": "ipython2",
   "version": "2.7.15"
  }
 },
 "nbformat": 4,
 "nbformat_minor": 2
}
