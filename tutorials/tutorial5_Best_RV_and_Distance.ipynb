{
 "cells": [
  {
   "cell_type": "markdown",
   "metadata": {},
   "source": [
    "# GALAH DR3 Tutorial 5: Best RV and Distance\n",
    "\n",
    "#### Author(s):\n",
    "Sven Buder (SB, sven.buder@anu.edu.au)"
   ]
  },
  {
   "cell_type": "code",
   "execution_count": null,
   "metadata": {},
   "outputs": [],
   "source": [
    "try:\n",
    "    %matplotlib inline\n",
    "    %config InlineBackend.figure_format='retina'\n",
    "except:\n",
    "    pass\n",
    "\n",
    "import numpy as np\n",
    "from astropy.table import Table,join\n",
    "import os"
   ]
  },
  {
   "cell_type": "markdown",
   "metadata": {},
   "source": [
    "## Collecting all relevant catalogs"
   ]
  },
  {
   "cell_type": "code",
   "execution_count": null,
   "metadata": {},
   "outputs": [],
   "source": [
    "catalog_directory = #'../catalogs/'\n",
    "# Take \"#\" out with correct directory before running!"
   ]
  },
  {
   "cell_type": "code",
   "execution_count": null,
   "metadata": {},
   "outputs": [],
   "source": [
    "def load_catalog(name='main_allspec_v2',catalog_directory='../catalogs/'):\n",
    "    try:\n",
    "        return(Table.read(catalog_directory+'GALAH_DR3_'+name+'.fits'))\n",
    "    except:\n",
    "        try:\n",
    "            os.system('wget https://cloud.datacentral.org.au/teamdata/GALAH/public/GALAH_DR3/GALAH_DR3_'+name+'.fits '+catalog_directory)\n",
    "        except:\n",
    "            return(Table.read(catalog_directory+'GALAH_DR3_'+name+'.fits'))"
   ]
  },
  {
   "cell_type": "code",
   "execution_count": null,
   "metadata": {},
   "outputs": [],
   "source": [
    "# Now let's load all catalogs\n",
    "dr3_main = load_catalog(name='main_allspec_v2')\n",
    "dr3_ages = load_catalog(name='VAC_ages_v2')\n",
    "dr3_dynamics = load_catalog(name='VAC_dynamics_v2')\n",
    "dr3_gaia = load_catalog(name='VAC_GaiaEDR3_v2')\n",
    "dr3_rv = load_catalog(name='VAC_rv_v2')"
   ]
  },
  {
   "cell_type": "code",
   "execution_count": null,
   "metadata": {},
   "outputs": [],
   "source": [
    "# Now let's join them to a master \"dr3\" Table\n",
    "dr3_12 = join(dr3_main,dr3_ages,keys='sobject_id',metadata_conflicts='silent')\n",
    "dr3_123 = join(dr3_12,dr3_dynamics,keys='sobject_id',metadata_conflicts='silent')\n",
    "dr3_1234 = join(dr3_123,dr3_gaia,keys='sobject_id',metadata_conflicts='silent')\n",
    "dr3 = join(dr3_1234,dr3_rv,keys='sobject_id',metadata_conflicts='silent')"
   ]
  },
  {
   "cell_type": "markdown",
   "metadata": {},
   "source": [
    "# Get a column for the best RV"
   ]
  },
  {
   "cell_type": "code",
   "execution_count": null,
   "metadata": {},
   "outputs": [],
   "source": [
    "dr3['rv'] = dr3['rv_galah_1']\n",
    "dr3['e_rv'] = dr3['e_rv_galah_1']\n",
    "dr3['rv'][dr3['use_rv_flag_1']==2] = dr3['dr2_radial_velocity_1'][dr3['use_rv_flag_1']==2]\n",
    "dr3['e_rv'][dr3['use_rv_flag_1']==2] = dr3['dr2_radial_velocity_error_1'][dr3['use_rv_flag_1']==2]"
   ]
  },
  {
   "cell_type": "markdown",
   "metadata": {},
   "source": [
    "# Get a column for the best Distance"
   ]
  },
  {
   "cell_type": "code",
   "execution_count": null,
   "metadata": {},
   "outputs": [],
   "source": [
    "# Use BSTEP to start with\n",
    "dr3['distance'] = 1000.*dr3['distance_bstep']\n",
    "dr3['lo_distance'] = 1000.*(dr3['distance_bstep'] - dr3['e_distance_bstep'])\n",
    "dr3['hi_distance'] =  1000.*(dr3['distance_bstep'] + dr3['e_distance_bstep'])\n",
    "\n",
    "# Use Bailer-Jones et al. (2020) photogeometric distances\n",
    "dr3['distance'][dr3['use_dist_flag']==1] = dr3['r_med_photogeo'][dr3['use_dist_flag']==1]\n",
    "dr3['lo_distance'][dr3['use_dist_flag']==1] = dr3['r_lo_photogeo'][dr3['use_dist_flag']==1]\n",
    "dr3['hi_distance'][dr3['use_dist_flag']==1] = dr3['r_hi_photogeo'][dr3['use_dist_flag']==1]\n",
    "\n",
    "# Use Bailer-Jones et al. (2020) geometric distances\n",
    "dr3['distance'][dr3['use_dist_flag']==2] = dr3['r_med_geo'][dr3['use_dist_flag']==2]\n",
    "dr3['lo_distance'][dr3['use_dist_flag']==2] = dr3['r_lo_geo'][dr3['use_dist_flag']==2]\n",
    "dr3['hi_distance'][dr3['use_dist_flag']==2] = dr3['r_hi_geo'][dr3['use_dist_flag']==2]\n",
    "\n",
    "# Use 1./parallax\n",
    "dr3['distance'][dr3['use_dist_flag']==4] = 1./dr3['parallax_corr'][dr3['use_dist_flag']==4]\n",
    "dr3['lo_distance'][dr3['use_dist_flag']==4] = 1./(dr3['parallax_corr'][dr3['use_dist_flag']==4]+dr3['parallax_error'][dr3['use_dist_flag']==4])\n",
    "dr3['hi_distance'][dr3['use_dist_flag']==4] = 1./(dr3['parallax_corr'][dr3['use_dist_flag']==4]-dr3['parallax_error'][dr3['use_dist_flag']==4])"
   ]
  }
 ],
 "metadata": {
  "kernelspec": {
   "display_name": "Python 3",
   "language": "python",
   "name": "python3"
  },
  "language_info": {
   "codemirror_mode": {
    "name": "ipython",
    "version": 3
   },
   "file_extension": ".py",
   "mimetype": "text/x-python",
   "name": "python",
   "nbconvert_exporter": "python",
   "pygments_lexer": "ipython3",
   "version": "3.7.4"
  }
 },
 "nbformat": 4,
 "nbformat_minor": 2
}
