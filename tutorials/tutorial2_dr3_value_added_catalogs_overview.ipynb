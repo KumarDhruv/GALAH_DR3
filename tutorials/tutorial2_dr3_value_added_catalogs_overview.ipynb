{
 "cells": [
  {
   "cell_type": "markdown",
   "metadata": {},
   "source": [
    "# GALAH DR3 Tutorial 2: DR3 Value Added Catalogs\n",
    "\n",
    "#### Author(s):\n",
    "Sven Buder (SB, sven.buder@anu.edu.au)"
   ]
  }
 ],
 "metadata": {
  "kernelspec": {
   "display_name": "Python 3",
   "language": "python",
   "name": "python3"
  },
  "language_info": {
   "codemirror_mode": {
    "name": "ipython",
    "version": 3
   },
   "file_extension": ".py",
   "mimetype": "text/x-python",
   "name": "python",
   "nbconvert_exporter": "python",
   "pygments_lexer": "ipython3",
   "version": "3.7.4"
  }
 },
 "nbformat": 4,
 "nbformat_minor": 2
}
