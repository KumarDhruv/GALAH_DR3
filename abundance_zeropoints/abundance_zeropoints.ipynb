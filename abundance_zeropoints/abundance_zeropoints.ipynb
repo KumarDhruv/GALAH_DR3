{
 "cells": [
  {
   "cell_type": "markdown",
   "metadata": {},
   "source": [
    "# Abundance zeropoint analysis\n",
    "\n",
    "## Author(s): Sven Buder (SB, WG4)\n",
    "\n",
    "### History:\n",
    "180926 SB Created"
   ]
  },
  {
   "cell_type": "code",
   "execution_count": 1,
   "metadata": {
    "code_folding": [
     0
    ]
   },
   "outputs": [],
   "source": [
    "# Preamble for notebook \n",
    "\n",
    "# Compatibility with Python 3\n",
    "from __future__ import (absolute_import, division, print_function)\n",
    "\n",
    "try:\n",
    "    %matplotlib inline\n",
    "    %config InlineBackend.figure_format='retina'\n",
    "except:\n",
    "    pass\n",
    "\n",
    "# Basic packages\n",
    "import numpy as np\n",
    "np.seterr(divide='ignore', invalid='ignore')\n",
    "import os\n",
    "import sys\n",
    "import glob\n",
    "import pickle\n",
    "import pandas\n",
    "\n",
    "# Packages to work with FITS and (IDL) SME.out files\n",
    "import astropy.io.fits as pyfits\n",
    "import astropy.table as table\n",
    "from scipy.io.idl import readsav\n",
    "\n",
    "# Matplotlib and associated packages for plotting\n",
    "import matplotlib\n",
    "import matplotlib.pyplot as plt\n",
    "from matplotlib.colors import LogNorm\n",
    "from matplotlib.transforms import Bbox,TransformedBbox\n",
    "from matplotlib.image import BboxImage\n",
    "from matplotlib.legend_handler import HandlerBase\n",
    "from matplotlib._png import read_png\n",
    "from matplotlib.backends.backend_pdf import PdfPages\n",
    "from matplotlib.colors import ListedColormap\n",
    "import matplotlib.colors as colors\n",
    "\n",
    "params = {\n",
    "    'font.family'        : 'sans',\n",
    "    'font.size'          : 17,\n",
    "    'axes.labelsize'     : 20,\n",
    "    'ytick.labelsize'    : 16,\n",
    "    'xtick.labelsize'    : 16,\n",
    "    'legend.fontsize'    : 20,\n",
    "    'text.usetex'        : True, \n",
    "    'text.latex.preamble': [r'\\usepackage{upgreek}', r'\\usepackage{amsmath}'],\n",
    "    }   \n",
    "plt.rcParams.update(params)\n",
    "\n",
    "_parula_data = [[0.2081, 0.1663, 0.5292], \n",
    "                [0.2116238095, 0.1897809524, 0.5776761905], \n",
    "                [0.212252381, 0.2137714286, 0.6269714286], \n",
    "                [0.2081, 0.2386, 0.6770857143], \n",
    "                [0.1959047619, 0.2644571429, 0.7279], \n",
    "                [0.1707285714, 0.2919380952, 0.779247619], \n",
    "                [0.1252714286, 0.3242428571, 0.8302714286], \n",
    "                [0.0591333333, 0.3598333333, 0.8683333333], \n",
    "                [0.0116952381, 0.3875095238, 0.8819571429], \n",
    "                [0.0059571429, 0.4086142857, 0.8828428571], \n",
    "                [0.0165142857, 0.4266, 0.8786333333], \n",
    "                [0.032852381, 0.4430428571, 0.8719571429], \n",
    "                [0.0498142857, 0.4585714286, 0.8640571429], \n",
    "                [0.0629333333, 0.4736904762, 0.8554380952], \n",
    "                [0.0722666667, 0.4886666667, 0.8467], \n",
    "                [0.0779428571, 0.5039857143, 0.8383714286], \n",
    "                [0.079347619, 0.5200238095, 0.8311809524], \n",
    "                [0.0749428571, 0.5375428571, 0.8262714286], \n",
    "                [0.0640571429, 0.5569857143, 0.8239571429], \n",
    "                [0.0487714286, 0.5772238095, 0.8228285714], \n",
    "                [0.0343428571, 0.5965809524, 0.819852381], \n",
    "                [0.0265, 0.6137, 0.8135], \n",
    "                [0.0238904762, 0.6286619048, 0.8037619048], \n",
    "                [0.0230904762, 0.6417857143, 0.7912666667], \n",
    "                [0.0227714286, 0.6534857143, 0.7767571429], \n",
    "                [0.0266619048, 0.6641952381, 0.7607190476], \n",
    "                [0.0383714286, 0.6742714286, 0.743552381], \n",
    "                [0.0589714286, 0.6837571429, 0.7253857143], \n",
    "                [0.0843, 0.6928333333, 0.7061666667], \n",
    "                [0.1132952381, 0.7015, 0.6858571429], \n",
    "                [0.1452714286, 0.7097571429, 0.6646285714], \n",
    "                [0.1801333333, 0.7176571429, 0.6424333333], \n",
    "                [0.2178285714, 0.7250428571, 0.6192619048], \n",
    "                [0.2586428571, 0.7317142857, 0.5954285714], \n",
    "                [0.3021714286, 0.7376047619, 0.5711857143], \n",
    "                [0.3481666667, 0.7424333333, 0.5472666667], \n",
    "                [0.3952571429, 0.7459, 0.5244428571], \n",
    "                [0.4420095238, 0.7480809524, 0.5033142857], \n",
    "                [0.4871238095, 0.7490619048, 0.4839761905], \n",
    "                [0.5300285714, 0.7491142857, 0.4661142857], \n",
    "                [0.5708571429, 0.7485190476, 0.4493904762],\n",
    "                [0.609852381, 0.7473142857, 0.4336857143], \n",
    "                [0.6473, 0.7456, 0.4188], \n",
    "                [0.6834190476, 0.7434761905, 0.4044333333], \n",
    "                [0.7184095238, 0.7411333333, 0.3904761905], \n",
    "                [0.7524857143, 0.7384, 0.3768142857], \n",
    "                [0.7858428571, 0.7355666667, 0.3632714286], \n",
    "                [0.8185047619, 0.7327333333, 0.3497904762], \n",
    "                [0.8506571429, 0.7299, 0.3360285714], \n",
    "                [0.8824333333, 0.7274333333, 0.3217], \n",
    "                [0.9139333333, 0.7257857143, 0.3062761905], \n",
    "                [0.9449571429, 0.7261142857, 0.2886428571], \n",
    "                [0.9738952381, 0.7313952381, 0.266647619], \n",
    "                [0.9937714286, 0.7454571429, 0.240347619], \n",
    "                [0.9990428571, 0.7653142857, 0.2164142857], \n",
    "                [0.9955333333, 0.7860571429, 0.196652381], \n",
    "                [0.988, 0.8066, 0.1793666667], \n",
    "                [0.9788571429, 0.8271428571, 0.1633142857], \n",
    "                [0.9697, 0.8481380952, 0.147452381], \n",
    "                [0.9625857143, 0.8705142857, 0.1309], \n",
    "                [0.9588714286, 0.8949, 0.1132428571], \n",
    "                [0.9598238095, 0.9218333333, 0.0948380952], \n",
    "                [0.9661, 0.9514428571, 0.0755333333], \n",
    "                [0.9763, 0.9831, 0.0538]]\n",
    "\n",
    "parula = ListedColormap(_parula_data, name='parula')\n",
    "parula_zero = _parula_data[0]\n",
    "parula_0 = ListedColormap(_parula_data, name='parula_0')\n",
    "parula_0.set_bad((1,1,1))\n",
    "parula_r = ListedColormap(_parula_data[::-1], name='parula_r')\n",
    "\n",
    "willi_blau = [0.0722666667, 0.4886666667, 0.8467]"
   ]
  },
  {
   "cell_type": "markdown",
   "metadata": {},
   "source": [
    "# Sun (reference: Asplund et al. 2009)"
   ]
  },
  {
   "cell_type": "code",
   "execution_count": 2,
   "metadata": {},
   "outputs": [],
   "source": [
    "sun = {}\n",
    "\n",
    "sun['Teff'] = [5772., 0.00] # Prsa et al., 2016, AJ, 152, 41\n",
    "sun['logg'] = [4.44, 0.00] # Prsa et al., 2016, AJ, 152, 41\n",
    "sun['mass'] = [1.00 , 0.00] # by definition\n",
    "sun['lbol'] = [1.00 , 0.00] # by definition\n",
    "sun['age']  = [4.57 , 0.11] # Bonanno et al., 2002, A&A, 390, 1115\n",
    "\n",
    "# Z, A_X, e_A_X\n",
    "sun[\"A_Li\"] = [1.05, 0.10,  3]\n",
    "sun[\"A_C\"]  = [8.43, 0.05,  6]\n",
    "sun[\"A_O\"]  = [8.69, 0.05,  8]\n",
    "sun[\"A_Na\"] = [6.24, 0.04, 11]\n",
    "sun[\"A_Mg\"] = [7.60, 0.04, 12]\n",
    "sun[\"A_Al\"] = [6.45, 0.03, 13]\n",
    "sun[\"A_Si\"] = [7.51, 0.03, 14]\n",
    "sun[\"A_K\"]  = [5.03, 0.09, 19]\n",
    "sun[\"A_Ca\"] = [6.34, 0.04, 20]\n",
    "sun[\"A_Sc\"] = [3.15, 0.04, 21]\n",
    "sun[\"A_Ti\"] = [4.95, 0.05, 22]\n",
    "sun[\"A_V\"]  = [3.93, 0.08, 23]\n",
    "sun[\"A_Cr\"] = [5.64, 0.04, 24]\n",
    "sun[\"A_Mn\"] = [5.43, 0.04, 25]\n",
    "sun[\"A_Fe\"] = [7.50, 0.04, 26]\n",
    "sun[\"A_Co\"] = [4.99, 0.07, 27]\n",
    "sun[\"A_Ni\"] = [6.22, 0.04, 28]\n",
    "sun[\"A_Cu\"] = [4.19, 0.04, 29]\n",
    "sun[\"A_Zn\"] = [4.56, 0.05, 30]\n",
    "sun[\"A_Rb\"] = [2.52, 0.10, 37]\n",
    "sun[\"A_Sr\"] = [2.87, 0.07, 38]\n",
    "sun[\"A_Y\"]  = [2.21, 0.05, 39]\n",
    "sun[\"A_Zr\"] = [2.58, 0.04, 40]\n",
    "sun[\"A_Mo\"] = [1.88, 0.08, 42]\n",
    "sun[\"A_Ru\"] = [1.75, 0.08, 44]\n",
    "sun[\"A_Ba\"] = [2.18, 0.09, 56]\n",
    "sun[\"A_La\"] = [1.10, 0.04, 57]\n",
    "sun[\"A_Ce\"] = [1.58, 0.04, 58]\n",
    "sun[\"A_Nd\"] = [1.42, 0.04, 60]\n",
    "sun[\"A_Sm\"] = [0.96, 0.04, 62]\n",
    "sun[\"A_Eu\"] = [0.52, 0.04, 63]"
   ]
  },
  {
   "cell_type": "markdown",
   "metadata": {},
   "source": [
    "# Arcturus (reference: internal APOGEE values, Ramirez & Allende Prieto 2011)"
   ]
  },
  {
   "cell_type": "code",
   "execution_count": 3,
   "metadata": {},
   "outputs": [],
   "source": [
    "arcturus = {}\n",
    "\n",
    "arcturus['Teff'] = [4286, 35] # Heiter et al., 2005, A&A, 582, 49\n",
    "arcturus['logg'] = [1.60, 0.20] # Heiter et al., 2005, A&A, 582, 49\n",
    "arcturus['fe_h'] = [-0.52, 0.08] # Heiter et al., 2005, A&A, 582, 49\n",
    "arcturus['mass'] = [1.08 , 0.06] # Ramirez & Allende Prieto, 2011, ApJ, 743, 135\n",
    "arcturus['lbol'] = [197.2, 2.2] # Heiter et al., 2005, A&A, 582, 49\n",
    "arcturus['age']  = [7.1, 1.5] # Ramirez & Allende Prieto, 2011, ApJ, 743, 135\n",
    "\n",
    "# Values from internal APOGEE communication, errors assumed to be 0.03!\n",
    "\n",
    "arcturus[\"A_Li\"] = [0.53, 0.03,  3]\n",
    "arcturus[\"A_C\"]  = [8.03, 0.03,  6]\n",
    "arcturus[\"A_O\"]  = [8.63, 0.03,  8]\n",
    "arcturus[\"A_Na\"] = [5.76, 0.03, 11]\n",
    "arcturus[\"A_Mg\"] = [7.38, 0.03, 12]\n",
    "arcturus[\"A_Al\"] = [6.19, 0.03, 13]\n",
    "arcturus[\"A_Si\"] = [7.32, 0.03, 14]\n",
    "arcturus[\"A_K\"]  = [4.76, 0.03, 19]\n",
    "arcturus[\"A_Ca\"] = [5.90, 0.03, 20]\n",
    "arcturus[\"A_Sc\"] = [2.80, 0.03, 21]\n",
    "arcturus[\"A_Ti\"] = [4.65, 0.03, 22]\n",
    "arcturus[\"A_V\"]  = [3.54, 0.03, 23]\n",
    "arcturus[\"A_Cr\"] = [5.07, 0.03, 24]\n",
    "arcturus[\"A_Mn\"] = [4.66, 0.03, 25]\n",
    "arcturus[\"A_Fe\"] = [6.93, 0.03, 26]\n",
    "arcturus[\"A_Co\"] = [4.49, 0.03, 27]\n",
    "arcturus[\"A_Ni\"] = [5.77, 0.03, 28]\n",
    "arcturus[\"A_Cu\"] = [3.71, 0.03, 29]\n",
    "arcturus[\"A_Zn\"] = [4.08, 0.03, 30]\n",
    "arcturus[\"A_Rb\"] = [2.08, 0.03, 37]\n",
    "arcturus[\"A_Sr\"] = [2.40, 0.03, 38]\n",
    "arcturus[\"A_Y\"]  = [1.69, 0.03, 39]\n",
    "arcturus[\"A_Zr\"] = [2.06, 0.03, 40]\n",
    "arcturus[\"A_Mo\"] = [1.40, 0.03, 42]\n",
    "arcturus[\"A_Ru\"] = [1.32, 0.03, 44]\n",
    "arcturus[\"A_Ba\"] = [1.65, 0.03, 56]\n",
    "arcturus[\"A_La\"] = [0.61, 0.03, 57]\n",
    "arcturus[\"A_Ce\"] = [0.99, 0.03, 58]\n",
    "arcturus[\"A_Nd\"] = [0.94, 0.03, 60]\n",
    "arcturus[\"A_Sm\"] = [0.48, 0.03, 62]\n",
    "arcturus[\"A_Eu\"] = [0.00, 0.03, 63]"
   ]
  },
  {
   "cell_type": "markdown",
   "metadata": {},
   "source": [
    "# GALAH values"
   ]
  },
  {
   "cell_type": "code",
   "execution_count": 4,
   "metadata": {},
   "outputs": [],
   "source": [
    "gbs_lbol     = pyfits.getdata('../gbs/data/GALAH_gbs_lbol.fits',1)\n",
    "gbs_sun      = gbs_lbol[(gbs_lbol['sobject_id'] == 150405000901378)][0]\n",
    "gbs_arcturus = gbs_lbol[(gbs_lbol['sobject_id'] == 150210005801171)][0]"
   ]
  },
  {
   "cell_type": "code",
   "execution_count": 5,
   "metadata": {},
   "outputs": [],
   "source": [
    "galah_sun = {}\n",
    "\n",
    "galah_sun['Teff'] = ['%.0f' % gbs_sun['TEFF'], '%.0f' % gbs_sun['E_TEFF']] \n",
    "galah_sun['logg'] = ['%.2f' % gbs_sun['LOGG'], np.nan] \n",
    "galah_sun['mass'] = ['%.2f' % gbs_sun['MASS'], np.nan] \n",
    "galah_sun['lbol'] = ['%.2f' % gbs_sun['LBOL'], np.nan] \n",
    "galah_sun['age']  = ['%.2f' % gbs_sun['AGE'], np.nan] \n",
    "\n",
    "# Z, A_X, e_A_X\n",
    "\n",
    "for iterator, each_mode in enumerate(gbs_sun['MODE']):\n",
    "    if (each_mode != 'Sp')  & (len(each_mode) <= 2) & (len(each_mode) >=1):\n",
    "        galah_sun[\"A_\"+each_mode] = [\n",
    "            '%.2f' % gbs_sun['A_ABUND'][iterator], \n",
    "            '%.2f' % gbs_sun['E_ABUND'][iterator]\n",
    "        ]\n",
    "    else:\n",
    "        if each_mode == 'K7699':\n",
    "            galah_sun[\"A_K\"] = [\n",
    "                '%.2f' % gbs_sun['A_ABUND'][iterator],\n",
    "                '%.2f' % gbs_sun['E_ABUND'][iterator]\n",
    "            ]\n",
    "        \n",
    "        if each_mode == 'Ca5862':\n",
    "            galah_sun[\"A_Ca\"] = [\n",
    "                '%.2f' % gbs_sun['A_ABUND'][iterator],\n",
    "                '%.2f' % gbs_sun['E_ABUND'][iterator]\n",
    "            ]\n",
    "\n",
    "        if each_mode == 'Cu5782':\n",
    "            galah_sun[\"A_Cu\"] = [\n",
    "                '%.2f' % gbs_sun['A_ABUND'][iterator],\n",
    "                '%.2f' % gbs_sun['E_ABUND'][iterator]\n",
    "            ]\n",
    "            \n",
    "        if each_mode == 'Ba5854':\n",
    "            galah_sun[\"A_Ba\"] = [\n",
    "                '%.2f' % np.nanmean([gbs_sun['A_ABUND'][iterator],gbs_sun['A_ABUND'][iterator+1]]), \n",
    "                '%.2f' % np.nanmean([gbs_sun['E_ABUND'][iterator],gbs_sun['E_ABUND'][iterator+1]])\n",
    "            ]"
   ]
  },
  {
   "cell_type": "code",
   "execution_count": 6,
   "metadata": {},
   "outputs": [
    {
     "name": "stderr",
     "output_type": "stream",
     "text": [
      "/Users/buder/anaconda/lib/python2.7/site-packages/numpy/lib/nanfunctions.py:703: RuntimeWarning: Mean of empty slice\n",
      "  warnings.warn(\"Mean of empty slice\", RuntimeWarning)\n"
     ]
    }
   ],
   "source": [
    "galah_arcturus = {}\n",
    "\n",
    "galah_arcturus['Teff'] = ['%.0f' % gbs_arcturus['TEFF'], '%.0f' % gbs_arcturus['E_TEFF']] \n",
    "galah_arcturus['logg'] = ['%.2f' % gbs_arcturus['LOGG'], np.nan] \n",
    "galah_arcturus['mass'] = ['%.2f' % gbs_arcturus['MASS'], np.nan] \n",
    "galah_arcturus['lbol'] = ['%.2f' % gbs_arcturus['LBOL'], np.nan] \n",
    "galah_arcturus['age']  = ['%.2f' % gbs_arcturus['AGE'], np.nan] \n",
    "\n",
    "# Z, A_X, e_A_X\n",
    "\n",
    "for iterator, each_mode in enumerate(gbs_arcturus['MODE']):\n",
    "    if (each_mode != 'Sp')  & (len(each_mode) <= 2) & (len(each_mode) >=1):\n",
    "        galah_arcturus[\"A_\"+each_mode] = ['%.2f' % gbs_arcturus['A_ABUND'][iterator], '%.2f' % gbs_arcturus['E_ABUND'][iterator]]\n",
    "    else:\n",
    "        if each_mode == 'K7699':\n",
    "            galah_arcturus[\"A_K\"] = ['%.2f' % gbs_arcturus['A_ABUND'][iterator], '%.2f' % gbs_arcturus['E_ABUND'][iterator]]\n",
    "        \n",
    "        if each_mode == 'Ca5862':\n",
    "            galah_arcturus[\"A_Ca\"] = ['%.2f' % gbs_arcturus['A_ABUND'][iterator], '%.2f' % gbs_arcturus['E_ABUND'][iterator]]\n",
    "\n",
    "        if each_mode == 'Cu5782':\n",
    "            galah_arcturus[\"A_Cu\"] = ['%.2f' % gbs_arcturus['A_ABUND'][iterator], '%.2f' % gbs_arcturus['E_ABUND'][iterator]]\n",
    "            \n",
    "        if each_mode == 'Ba5854':\n",
    "            galah_arcturus[\"A_Ba\"] = [\n",
    "                '%.0f' % np.nanmean([gbs_arcturus['A_ABUND'][iterator],gbs_arcturus['A_ABUND'][iterator+1]]), \n",
    "                '%.0f' % np.nanmean([gbs_arcturus['E_ABUND'][iterator],gbs_arcturus['E_ABUND'][iterator+1]])\n",
    "            ]"
   ]
  },
  {
   "cell_type": "code",
   "execution_count": 7,
   "metadata": {},
   "outputs": [
    {
     "name": "stdout",
     "output_type": "stream",
     "text": [
      "Teff , 5772.0 $\\pm$ 0.0 , 5779 $\\pm$ 104\n",
      "logg , 4.44 $\\pm$ 0.0 , 4.42 $\\pm$ nan\n",
      "A_Fe , 7.5 $\\pm$ 0.04 , 7.38 $\\pm$ 0.08\n",
      "mass , 1.0 $\\pm$ 0.0 , 0.97 $\\pm$ nan\n",
      "lbol , 1.0 $\\pm$ 0.0 , 1.01 $\\pm$ nan\n",
      "age , 4.57 $\\pm$ 0.11 , 5.83 $\\pm$ nan\n"
     ]
    }
   ],
   "source": [
    "for each_key in ['Teff','logg','A_Fe','mass','lbol','age']:\n",
    "    print(each_key,',',sun[each_key][0],'$\\pm$',sun[each_key][1],',',galah_sun[each_key][0],'$\\pm$',galah_sun[each_key][1])"
   ]
  },
  {
   "cell_type": "code",
   "execution_count": 8,
   "metadata": {},
   "outputs": [
    {
     "name": "stdout",
     "output_type": "stream",
     "text": [
      "A_Zn , 4.56 $\\pm$ 0.05 , 4.45 $\\pm$ 0.05\n",
      "A_Zr , 2.58 $\\pm$ 0.04 , 2.14 $\\pm$ 0.53\n",
      "A_Ca , 6.34 $\\pm$ 0.04 , 6.26 $\\pm$ 0.07\n",
      "A_Mn , 5.43 $\\pm$ 0.04 , 5.39 $\\pm$ 0.00\n",
      "A_Ru , 1.75 $\\pm$ 0.08 , nan $\\pm$ nan\n",
      "A_Ce , 1.58 $\\pm$ 0.04 , 2.10 $\\pm$ 0.02\n",
      "A_Mg , 7.6 $\\pm$ 0.04 , 7.56 $\\pm$ 0.03\n",
      "A_Mo , 1.88 $\\pm$ 0.08 , nan $\\pm$ nan\n",
      "A_Ti , 4.95 $\\pm$ 0.05 , 4.87 $\\pm$ 0.08\n",
      "A_Co , 4.99 $\\pm$ 0.07 , nan $\\pm$ nan\n",
      "A_Cr , 5.64 $\\pm$ 0.04 , 5.64 $\\pm$ 0.09\n",
      "A_Cu , 4.19 $\\pm$ 0.04 , 4.08 $\\pm$ 0.01\n",
      "A_Rb , 2.52 $\\pm$ 0.1 , nan $\\pm$ nan\n",
      "A_V , 3.93 $\\pm$ 0.08 , 3.95 $\\pm$ 0.01\n",
      "A_Eu , 0.52 $\\pm$ 0.04 , nan $\\pm$ nan\n",
      "A_Y , 2.21 $\\pm$ 0.05 , 1.88 $\\pm$ 0.08\n",
      "A_Sr , 2.87 $\\pm$ 0.07 , nan $\\pm$ nan\n",
      "A_C , 8.43 $\\pm$ 0.05 , 8.42 $\\pm$ 0.02\n",
      "A_Al , 6.45 $\\pm$ 0.03 , 6.42 $\\pm$ 0.08\n",
      "A_O , 8.69 $\\pm$ 0.05 , 8.65 $\\pm$ 0.04\n",
      "A_K , 5.03 $\\pm$ 0.09 , 5.41 $\\pm$ 0.00\n",
      "A_Ni , 6.22 $\\pm$ 0.04 , 6.27 $\\pm$ 0.05\n",
      "A_Li , 1.05 $\\pm$ 0.1 , 0.95 $\\pm$ 0.38\n",
      "A_Ba , 2.18 $\\pm$ 0.09 , 2.15 $\\pm$ 0.01\n",
      "A_Na , 6.24 $\\pm$ 0.04 , 6.11 $\\pm$ 0.01\n",
      "A_La , 1.1 $\\pm$ 0.04 , 1.32 $\\pm$ 0.19\n",
      "A_Nd , 1.42 $\\pm$ 0.04 , nan $\\pm$ nan\n",
      "A_Sc , 3.15 $\\pm$ 0.04 , 3.14 $\\pm$ 0.08\n",
      "A_Si , 7.51 $\\pm$ 0.03 , 7.48 $\\pm$ 0.06\n",
      "A_Sm , 0.96 $\\pm$ 0.04 , 1.51 $\\pm$ 0.05\n"
     ]
    }
   ],
   "source": [
    "for each_key in sun.keys():\n",
    "    if each_key not in ['Teff','logg','A_Fe','mass','lbol','age','fe_h']:\n",
    "        print(each_key,',',sun[each_key][0],'$\\pm$',sun[each_key][1],',',galah_sun[each_key][0],'$\\pm$',galah_sun[each_key][1])"
   ]
  },
  {
   "cell_type": "code",
   "execution_count": 9,
   "metadata": {},
   "outputs": [
    {
     "data": {
      "image/png": "[encoded data removed]",
      "text/plain": [
       "<Figure size 720x216 with 1 Axes>"
      ]
     },
     "metadata": {
      "image/png": {
       "height": 210,
       "width": 711
      }
     },
     "output_type": "display_data"
    }
   ],
   "source": [
    "kwargs_errorbar = dict(color = 'k', capsize=3, fmt='o', ms=3)\n",
    "\n",
    "f, (ax1) = plt.subplots(1, figsize=(10,3))\n",
    "\n",
    "ax1.set_title('Solar A(X) (GALAH - Asplund+09)', fontsize=20)\n",
    "ax1.axhline(0, color='r', ls='dashed')\n",
    "ax1.set_ylim(-0.651, 0.651)\n",
    "ax1.set_xlim(0,65)\n",
    "ax1.set_xlabel('Element X')\n",
    "ax1.set_ylabel(r'$\\Delta$ A(X)')\n",
    "ax1.set_yticks([-0.5, -0.25, 0.0, 0.25, 0.5])\n",
    "\n",
    "for it, each_key in enumerate(sun.keys()):\n",
    "    if each_key not in ['Teff','logg','A_Fe','mass','lbol','age','fe_h']:\n",
    "        ax1.errorbar(\n",
    "            sun[each_key][2],\n",
    "            float(galah_sun[each_key][0]) - float(sun[each_key][0]),\n",
    "            yerr = np.sqrt(float(galah_sun[each_key][1])**2 + float(sun[each_key][1])**2),\n",
    "            **kwargs_errorbar\n",
    "            )\n",
    "        ax1.text(sun[each_key][2], -.6 + it%8*0.025, each_key[2:],ha='center')\n",
    "plt.tight_layout()\n",
    "plt.savefig('figures/abundance_zeropoints_sun.png', dpi=300, bbox_inches='tight')"
   ]
  },
  {
   "cell_type": "code",
   "execution_count": 10,
   "metadata": {},
   "outputs": [
    {
     "name": "stdout",
     "output_type": "stream",
     "text": [
      "Teff , 4286 $\\pm$ 35 , 4289 $\\pm$ 21\n",
      "logg , 1.6 $\\pm$ 0.2 , 1.65 $\\pm$ nan\n",
      "A_Fe , 6.93 $\\pm$ 0.03 , 6.83 $\\pm$ 0.03\n",
      "mass , 1.08 $\\pm$ 0.06 , 0.96 $\\pm$ nan\n",
      "lbol , 197.2 $\\pm$ 2.2 , 179.87 $\\pm$ nan\n",
      "age , 7.1 $\\pm$ 1.5 , 9.42 $\\pm$ nan\n"
     ]
    }
   ],
   "source": [
    "for each_key in ['Teff','logg','A_Fe','mass','lbol','age']:\n",
    "    print(each_key,',',arcturus[each_key][0],'$\\pm$',arcturus[each_key][1],',',galah_arcturus[each_key][0],'$\\pm$',galah_arcturus[each_key][1])"
   ]
  },
  {
   "cell_type": "code",
   "execution_count": 11,
   "metadata": {},
   "outputs": [
    {
     "name": "stdout",
     "output_type": "stream",
     "text": [
      "A_Zn , 4.08 $\\pm$ 0.03 , 4.05 $\\pm$ 0.00\n",
      "A_Zr , 2.06 $\\pm$ 0.03 , nan $\\pm$ nan\n",
      "A_Ca , 5.9 $\\pm$ 0.03 , 5.88 $\\pm$ 0.00\n",
      "A_Mn , 4.66 $\\pm$ 0.03 , 4.65 $\\pm$ 0.00\n",
      "A_Ru , 1.32 $\\pm$ 0.03 , nan $\\pm$ nan\n",
      "A_Ce , 0.99 $\\pm$ 0.03 , nan $\\pm$ nan\n",
      "A_Mg , 7.38 $\\pm$ 0.03 , 7.44 $\\pm$ 0.00\n",
      "A_Mo , 1.4 $\\pm$ 0.03 , nan $\\pm$ nan\n",
      "A_Ti , 4.65 $\\pm$ 0.03 , 4.63 $\\pm$ 0.03\n",
      "A_Co , 4.49 $\\pm$ 0.03 , 4.55 $\\pm$ 0.00\n",
      "A_Cr , 5.07 $\\pm$ 0.03 , 5.02 $\\pm$ 0.03\n",
      "A_Cu , 3.71 $\\pm$ 0.03 , 3.71 $\\pm$ 0.00\n",
      "A_Rb , 2.08 $\\pm$ 0.03 , nan $\\pm$ nan\n",
      "A_V , 3.54 $\\pm$ 0.03 , 3.68 $\\pm$ 0.00\n",
      "A_Eu , 0.0 $\\pm$ 0.03 , nan $\\pm$ nan\n",
      "A_Y , 1.69 $\\pm$ 0.03 , nan $\\pm$ nan\n",
      "A_Sr , 2.4 $\\pm$ 0.03 , nan $\\pm$ nan\n",
      "A_C , 8.03 $\\pm$ 0.03 , nan $\\pm$ nan\n",
      "A_Al , 6.19 $\\pm$ 0.03 , 6.27 $\\pm$ 0.00\n",
      "A_O , 8.63 $\\pm$ 0.03 , 8.78 $\\pm$ 0.07\n",
      "A_K , 4.76 $\\pm$ 0.03 , 5.04 $\\pm$ 0.00\n",
      "A_Li , 0.53 $\\pm$ 0.03 , -1.13 $\\pm$ 0.45\n",
      "A_Ni , 5.77 $\\pm$ 0.03 , 5.86 $\\pm$ 0.00\n",
      "A_Ba , 1.65 $\\pm$ 0.03 , nan $\\pm$ nan\n",
      "A_Na , 5.76 $\\pm$ 0.03 , 5.84 $\\pm$ 0.00\n",
      "A_La , 0.61 $\\pm$ 0.03 , nan $\\pm$ nan\n",
      "A_Nd , 0.94 $\\pm$ 0.03 , nan $\\pm$ nan\n",
      "A_Sc , 2.8 $\\pm$ 0.03 , 2.71 $\\pm$ 0.00\n",
      "A_Si , 7.32 $\\pm$ 0.03 , 7.27 $\\pm$ 0.00\n",
      "A_Sm , 0.48 $\\pm$ 0.03 , nan $\\pm$ nan\n"
     ]
    }
   ],
   "source": [
    "for each_key in arcturus.keys():\n",
    "    if each_key not in ['Teff','logg','A_Fe','mass','lbol','age','fe_h']:\n",
    "        print(each_key,',',arcturus[each_key][0],'$\\pm$',arcturus[each_key][1],',',galah_arcturus[each_key][0],'$\\pm$',galah_arcturus[each_key][1])"
   ]
  },
  {
   "cell_type": "code",
   "execution_count": 12,
   "metadata": {},
   "outputs": [
    {
     "data": {
      "image/png": "[encoded data removed]",
      "text/plain": [
       "<Figure size 720x216 with 1 Axes>"
      ]
     },
     "metadata": {
      "image/png": {
       "height": 210,
       "width": 711
      }
     },
     "output_type": "display_data"
    }
   ],
   "source": [
    "kwargs_errorbar = dict(color = 'k', capsize=3, fmt='o', ms=3)\n",
    "\n",
    "f, (ax1) = plt.subplots(1, figsize=(10,3))\n",
    "ax1.set_title('Arcturus A(X) (GALAH - APOGEE/Ramirez+11)', fontsize=20)\n",
    "\n",
    "ax1.axhline(0, color='r', ls='dashed')\n",
    "ax1.set_ylim(-0.651, 0.651)\n",
    "ax1.set_xlim(0,65)\n",
    "ax1.set_xlabel('Element X')\n",
    "ax1.set_ylabel(r'$\\Delta$ A(X)')\n",
    "\n",
    "for it, each_key in enumerate(sun.keys()):\n",
    "    if each_key not in ['Teff','logg','A_Fe','mass','lbol','age','fe_h']:\n",
    "        ax1.errorbar(\n",
    "            sun[each_key][2],\n",
    "            float(galah_arcturus[each_key][0]) - float(arcturus[each_key][0]),\n",
    "            yerr = np.sqrt(float(galah_arcturus[each_key][1])**2 + float(arcturus[each_key][1])**2),\n",
    "            **kwargs_errorbar\n",
    "            )\n",
    "        ax1.text(arcturus[each_key][2], -.6 + it%8*0.025, each_key[2:],ha='center')\n",
    "\n",
    "plt.tight_layout()\n",
    "plt.savefig('figures/abundance_zeropoints_arcturus.png', dpi=300, bbox_inches='tight')"
   ]
  }
 ],
 "metadata": {
  "kernelspec": {
   "display_name": "Python 2",
   "language": "python",
   "name": "python2"
  },
  "language_info": {
   "codemirror_mode": {
    "name": "ipython",
    "version": 2
   },
   "file_extension": ".py",
   "mimetype": "text/x-python",
   "name": "python",
   "nbconvert_exporter": "python",
   "pygments_lexer": "ipython2",
   "version": "2.7.15"
  }
 },
 "nbformat": 4,
 "nbformat_minor": 2
}
