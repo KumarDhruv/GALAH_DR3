{
 "cells": [
  {
   "cell_type": "markdown",
   "metadata": {},
   "source": [
    "# Actions and Orbit caluclation with MC sampling for GALAH DR3\n",
    "\n",
    "## Author: Sven Buder"
   ]
  },
  {
   "cell_type": "code",
   "execution_count": 1,
   "metadata": {
    "collapsed": true
   },
   "outputs": [],
   "source": [
    "# Preamble for notebook \n",
    "\n",
    "# Compatibility with Python 3\n",
    "from __future__ import (absolute_import, division, print_function)\n",
    "\n",
    "try:\n",
    "    %matplotlib inline\n",
    "    %config InlineBackend.figure_format='retina'\n",
    "except:\n",
    "    pass\n",
    "\n",
    "# General\n",
    "import numpy as np\n",
    "np.seterr(divide='ignore', invalid='ignore')\n",
    "import pandas\n",
    "import astropy.io.fits as pyfits\n",
    "from astropy.table import Table\n",
    "\n",
    "# matplotlib\n",
    "import matplotlib.pyplot as plt\n",
    "debug = False #True"
   ]
  },
  {
   "cell_type": "markdown",
   "metadata": {},
   "source": [
    "### Galpy initialization"
   ]
  },
  {
   "cell_type": "code",
   "execution_count": 2,
   "metadata": {
    "collapsed": false
   },
   "outputs": [
    {
     "name": "stdout",
     "output_type": "stream",
     "text": [
      "The Sun has an angular momentum of '+str(_REFR0 * _REFV0)+' kpc km/s in this action framework with MWPotential2014\n",
      "We place Sgr A at (x; y; z) = (R_0; 0; z_0) kpc, where\n",
      "R_0 = 8.2 kpc and z_0 = -25 pc (Bland-Hawthorn & Gerhard, 2016)\n",
      "The Sun's velocity with respect to a co-located particle on a circular orbit is\n",
      "V_LSR = (U_sun, V_sun, W_sun) = (-11, 10, 7.25) km/s (Schoenrich 2012)\n"
     ]
    }
   ],
   "source": [
    "import galpy\n",
    "from galpy.potential import MWPotential2014 as pot\n",
    "from galpy.actionAngle import actionAngleStaeckel\n",
    "from galpy.util import bovy_coords\n",
    "\n",
    "#galpy scale units:                                                                                                                                                                                         \n",
    "_REFR0 = 8.2   #[kpc]  --> galpy length unit                                                                                                                                                                 \n",
    "_REFV0 = 238. #[km/s] --> galpy velocity unit\n",
    "\n",
    "aAS = actionAngleStaeckel(\n",
    "        pot   = pot,        #potential                                                                                                                                                                      \n",
    "        delta = 0.45,       #focal length of confocal coordinate system                                                                                                                            \n",
    "        c     = True        #use C code (for speed)                                                                                                                                                         \n",
    "        )\n",
    "\n",
    "print(\"The Sun has an angular momentum of '+str(_REFR0 * _REFV0)+' kpc km/s in this action framework with MWPotential2014\")\n",
    "\n",
    "#Galactocentric position of the Sun according to Bland-Hawthorn & Gerhard (2016)\n",
    "X_gc_sun_kpc = 8.2   #[kpc]                                                                                                                                                                                 \n",
    "Z_gc_sun_kpc = 0.025 #[kpc]                                                                                                                                                                                 \n",
    "\n",
    "print(r\"We place Sgr A at (x; y; z) = (R_0; 0; z_0) kpc, where\")\n",
    "print(\"R_0 = 8.2 kpc and z_0 = -25 pc (Bland-Hawthorn & Gerhard, 2016)\")\n",
    "\n",
    "#Galactocentric velocity of the Sun:                                                                                                                                                                        \n",
    "vX_gc_sun_kms = -11.0        # = -U              [kms]                                                                                                                                                      \n",
    "vY_gc_sun_kms =  10.0+_REFV0 # = V+v_circ(R_Sun) [kms]                                                                                                                                                      \n",
    "vZ_gc_sun_kms =   7.25       # = W               [kms]                                                                                                                                                      \n",
    "\n",
    "print(\"The Sun's velocity with respect to a co-located particle on a circular orbit is\")\n",
    "print(\"V_LSR = (U_sun, V_sun, W_sun) = (-11, 10, 7.25) km/s (Schoenrich 2012)\")"
   ]
  },
  {
   "cell_type": "markdown",
   "metadata": {},
   "source": [
    "### Input of 6D information in observable dimensions"
   ]
  },
  {
   "cell_type": "code",
   "execution_count": 3,
   "metadata": {
    "collapsed": true
   },
   "outputs": [],
   "source": [
    "# Where is sobject_iraf_53_2MASS_GaiaDR2_WISE_PanSTARRSDR1_BailerJones_K2seis.fits?\n",
    "\n",
    "file_directory = '/shared-storage/buder/svn-repos/trunk/GALAH/DATA/'\n",
    "#file_directory = '/Users/buder/GALAH_DR3/input/'"
   ]
  },
  {
   "cell_type": "code",
   "execution_count": 4,
   "metadata": {
    "collapsed": false,
    "scrolled": false
   },
   "outputs": [
    {
     "name": "stdout",
     "output_type": "stream",
     "text": [
      "825531\n",
      "20\n"
     ]
    }
   ],
   "source": [
    "galah_gaia_input = pyfits.getdata(file_directory+'sobject_iraf_53_2MASS_GaiaDR2_WISE_PanSTARRSDR1_BailerJones_K2seis.fits',1)\n",
    "                                  \n",
    "nr_galah_stars = len(galah_gaia_input['sobject_id'])\n",
    "print(nr_galah_stars)\n",
    "\n",
    "nr_galah_stars_dynamics = np.where(\n",
    "    np.isfinite(galah_gaia_input['ra']) &\n",
    "    np.isfinite(galah_gaia_input['dec']) &\n",
    "    np.isfinite(galah_gaia_input['r_est']) &\n",
    "    np.isfinite(galah_gaia_input['pmra']) &\n",
    "    np.isfinite(galah_gaia_input['pmdec']) &\n",
    "    np.isfinite(galah_gaia_input['rv_guess']) &\n",
    "    np.isfinite(galah_gaia_input['ra_error']) &\n",
    "    np.isfinite(galah_gaia_input['dec_error']) &\n",
    "    np.isfinite(galah_gaia_input['r_hi']) &\n",
    "    np.isfinite(galah_gaia_input['r_lo']) &\n",
    "    np.isfinite(galah_gaia_input['pmra_error']) &\n",
    "    np.isfinite(galah_gaia_input['pmdec_error']) &\n",
    "    np.isfinite(galah_gaia_input['e_rv_guess']) &\n",
    "    (galah_gaia_input['rv_guess'] != 999.) &\n",
    "    (galah_gaia_input['rv_guess'] != 1024.)\n",
    "    )[0]\n",
    "\n",
    "# This should only me activated for tests with subsets of GALAH DR3\n",
    "nr_galah_stars_dynamics = nr_galah_stars_dynamics[:20]\n",
    "\n",
    "galah_gaia = galah_gaia_input[nr_galah_stars_dynamics]\n",
    "nr_stars = len(galah_gaia['sobject_id'])\n",
    "print(nr_stars)"
   ]
  },
  {
   "cell_type": "code",
   "execution_count": 5,
   "metadata": {
    "collapsed": true
   },
   "outputs": [],
   "source": [
    "six_dimensions = {}\n",
    "\n",
    "# Right ascension [rad]\n",
    "six_dimensions['ra'] = galah_gaia['ra']*(np.pi/180.)\n",
    "# Declination [rad]\n",
    "six_dimensions['dec'] = galah_gaia['dec']*(np.pi/180.)\n",
    "# Distance from Sun [kpc]\n",
    "six_dimensions['distance'] = galah_gaia['r_est']#/1000.\n",
    "\n",
    "# Total proper motion in direction of right ascension [mas/yr]\n",
    "six_dimensions['pmra'] = galah_gaia['pmra'] * np.cos(six_dimensions['dec'])\n",
    "# Total proper motion in direction of declination [mas/yr]\n",
    "six_dimensions['pmdec'] = galah_gaia['pmdec']\n",
    "# Radial velocity [km/s]\n",
    "six_dimensions['vrad'] = galah_gaia['rv_guess']"
   ]
  },
  {
   "cell_type": "code",
   "execution_count": 6,
   "metadata": {
    "collapsed": true
   },
   "outputs": [],
   "source": [
    "e_six_dimensions = {}\n",
    "\n",
    "# Error of right ascension [rad]\n",
    "e_six_dimensions['ra'] = galah_gaia['ra_error']*(np.pi/180.)\n",
    "# Error of declination [rad]\n",
    "e_six_dimensions['dec'] = galah_gaia['dec_error']*(np.pi/180.)\n",
    "# Error of distance from Sun [pc]\n",
    "e_six_dimensions['distance_high'] = galah_gaia['r_hi']\n",
    "e_six_dimensions['distance_low']  = galah_gaia['r_lo']\n",
    "    # We are currently sampling a 2-sided Gaussian because Bailer-Jones are only giving 16th/50th/86th percentiles.\n",
    "    # Any idea how to improve that because of missing posteriors from Bailer-Jones?\n",
    "    \n",
    "# Error of total proper motion in direction of right ascension [mas/yr]\n",
    "e_six_dimensions['pmra'] = galah_gaia['pmra_error'] * np.cos(six_dimensions['dec'])\n",
    "# Error of total proper motion in direction of declination [mas/yr]\n",
    "e_six_dimensions['pmdec'] = galah_gaia['pmdec_error']\n",
    "# Error of radial velocity [km/s]\n",
    "e_six_dimensions['vrad'] = np.sqrt(galah_gaia['e_rv_guess']**2. + 0.1**2.) # error floor for rv_guess is 0.1 like for GALAH DR2"
   ]
  },
  {
   "cell_type": "markdown",
   "metadata": {},
   "source": [
    "## Monte Carlo sampling of Orbits"
   ]
  },
  {
   "cell_type": "code",
   "execution_count": 7,
   "metadata": {
    "collapsed": false
   },
   "outputs": [
    {
     "name": "stdout",
     "output_type": "stream",
     "text": [
      "['X_XYZ' 'Y_XYZ' 'Z_XYZ' 'U_LSR' 'V_LSR' 'W_LSR' 'R_Rzphi' 'phi_Rzphi'\n",
      " 'z_Rzphi' 'vR_Rzphi' 'vphi_Rzphi' 'vz_Rzphi' 'J_R' 'L_Z' 'J_Z' 'ecc'\n",
      " 'zmax' 'R_peri' 'R_ap']\n"
     ]
    }
   ],
   "source": [
    "MC_size = 10000\n",
    "np.random.seed(123)\n",
    "\n",
    "XYZ_labels       = ['X_XYZ','Y_XYZ','Z_XYZ']\n",
    "UVW_labels       = ['U_LSR','V_LSR','W_LSR']\n",
    "\n",
    "Rphiz_labels     = ['R_Rzphi','phi_Rzphi','z_Rzphi']\n",
    "vRphiz_labels    = ['vR_Rzphi','vphi_Rzphi','vz_Rzphi']\n",
    "\n",
    "action_labels    = ['J_R','L_Z','J_Z']\n",
    "ext_orbit_labels = ['ecc', 'zmax', 'R_peri', 'R_ap']\n",
    "\n",
    "orbit_labels = np.concatenate((\n",
    "    XYZ_labels,\n",
    "    UVW_labels,\n",
    "    Rphiz_labels,\n",
    "    vRphiz_labels,\n",
    "    action_labels,\n",
    "    ext_orbit_labels    \n",
    "    ))\n",
    "print(orbit_labels)\n",
    "\n",
    "orbit_information = {}\n",
    "interim_orbit_information = {}\n",
    "\n",
    "for each_orbit_label in orbit_labels:\n",
    "    interim_orbit_information[each_orbit_label] = []\n",
    "    interim_orbit_information[each_orbit_label+'_sig'] = []"
   ]
  },
  {
   "cell_type": "markdown",
   "metadata": {},
   "source": [
    "### Samples"
   ]
  },
  {
   "cell_type": "code",
   "execution_count": 8,
   "metadata": {
    "collapsed": true
   },
   "outputs": [],
   "source": [
    "# Sampling the distances from Bailer-Jones assuming 2 separate Gaussian distributions\n",
    "distance_sigma_lo  = np.array([np.abs(np.random.normal(loc = 0., scale = six_dimensions['distance'] -  e_six_dimensions['distance_low'])) for i in range(MC_size)])\n",
    "distance_sigma_hi  = np.array([np.abs(np.random.normal(loc = 0., scale = e_six_dimensions['distance_high'] - six_dimensions['distance'])) for i in range(MC_size)])\n",
    "select_lo_hi = np.array([(np.random.uniform(0, 1, size=nr_stars) < 0.5).astype(float) for x in range(MC_size)])"
   ]
  },
  {
   "cell_type": "code",
   "execution_count": 9,
   "metadata": {
    "collapsed": true
   },
   "outputs": [],
   "source": [
    "MC_sample_6D = {}\n",
    "\n",
    "if MC_size == 1:\n",
    "    for each_key in six_dimensions.keys():\n",
    "        MC_sample_6D[each_key] = np.array([six_dimensions[each_key]])\n",
    "else:\n",
    "    MC_sample_6D['ra']       = np.array([np.random.normal(loc=six_dimensions['ra'], scale=e_six_dimensions['ra']) for i in range(MC_size)])\n",
    "    MC_sample_6D['dec']      = np.array([np.random.normal(loc=six_dimensions['dec'], scale=e_six_dimensions['dec']) for i in range(MC_size)])\n",
    "    MC_sample_6D['distance'] = (six_dimensions['distance'] + select_lo_hi*distance_sigma_hi - (1-select_lo_hi)*distance_sigma_lo).clip(min=0)/1000.\n",
    "\n",
    "    MC_sample_6D['pmra']       = np.array([np.random.normal(loc=six_dimensions['pmra'], scale=e_six_dimensions['pmra']) for i in range(MC_size)])\n",
    "    MC_sample_6D['pmdec']      = np.array([np.random.normal(loc=six_dimensions['pmdec'], scale=e_six_dimensions['pmdec']) for i in range(MC_size)])\n",
    "    MC_sample_6D['vrad']      = np.array([np.random.normal(loc=six_dimensions['vrad'], scale=e_six_dimensions['vrad']) for i in range(MC_size)])"
   ]
  },
  {
   "cell_type": "code",
   "execution_count": null,
   "metadata": {
    "collapsed": false
   },
   "outputs": [
    {
     "data": {
      "image/png": "[encoded data removed]",
      "text/plain": [
       "<Figure size 1080x360 with 6 Axes>"
      ]
     },
     "metadata": {
      "image/png": {
       "height": 350,
       "width": 1070
      }
     },
     "output_type": "display_data"
    }
   ],
   "source": [
    "if (debug == True):\n",
    "    star_index = 0\n",
    "\n",
    "    f, ((ax1, ax2, ax3), (ax4, ax5, ax6)) = plt.subplots(2,3,figsize=(15,5))\n",
    "\n",
    "    ax1.hist(MC_sample_6D['ra'][:,star_index],bins=50);\n",
    "    ax2.hist(MC_sample_6D['dec'][:,star_index],bins=50);\n",
    "    ax3.hist(MC_sample_6D['distance'][:,star_index],bins=50);\n",
    "\n",
    "    ax4.hist(MC_sample_6D['pmra'][:,star_index],bins=50);\n",
    "    ax5.hist(MC_sample_6D['pmdec'][:,star_index],bins=50);\n",
    "    ax6.hist(MC_sample_6D['vrad'][:,star_index],bins=50);\n",
    "\n",
    "    ax1.set_xlabel('MC (RA) [rad]')\n",
    "    ax2.set_xlabel('MC (Dec) [rad]')\n",
    "    ax3.set_xlabel('MC (Dist) [kpc]')\n",
    "    ax4.set_xlabel('MC (pmra) [mas/yr]')\n",
    "    ax5.set_xlabel('MC (pmdec) [mas/yr]')\n",
    "    ax6.set_xlabel('MC (vrad) [km/s]')\n",
    "\n",
    "    plt.tight_layout()"
   ]
  },
  {
   "cell_type": "code",
   "execution_count": null,
   "metadata": {
    "collapsed": false
   },
   "outputs": [],
   "source": [
    "for each_draw in range(MC_size):\n",
    "    \n",
    "    #a. convert spatial coordinates (ra,dec,d) to (R,z,phi)\n",
    "    \n",
    "    #(ra,dec) --> Galactic coordinates (l,b):  \n",
    "    lb = bovy_coords.radec_to_lb(\n",
    "                    MC_sample_6D['ra'][each_draw],MC_sample_6D['dec'][each_draw],\n",
    "                    degree=False,epoch='J2015.5'\n",
    "                    )\n",
    "    \n",
    "    # (l,b,d) --> Galactocentric cartesian coordinates (x,y,z):  \n",
    "    xyz = bovy_coords.lbd_to_XYZ(\n",
    "                    lb[:,0],lb[:,1],\n",
    "                    MC_sample_6D['distance'][each_draw],\n",
    "                    degree=False)\n",
    "    \n",
    "    interim_orbit_information[XYZ_labels[0]].append(xyz[:,0])\n",
    "    interim_orbit_information[XYZ_labels[1]].append(xyz[:,1])\n",
    "    interim_orbit_information[XYZ_labels[2]].append(xyz[:,2])\n",
    "    \n",
    "    # (x,y,z) --> Galactocentric cylindrical coordinates (R,phi,z):\n",
    "    Rphiz= bovy_coords.XYZ_to_galcencyl(\n",
    "                    xyz[:,0], xyz[:,1], xyz[:,2],\n",
    "                    Xsun=X_gc_sun_kpc,Zsun=Z_gc_sun_kpc\n",
    "                    )\n",
    "    \n",
    "    #b. convert velocities (pm_ra,pm_dec,vlos) to (vR,vz,vT)     \n",
    "    pmlpmb = bovy_coords.pmrapmdec_to_pmllpmbb(\n",
    "                        MC_sample_6D['pmra'][each_draw],\n",
    "                        MC_sample_6D['pmdec'][each_draw],\n",
    "                        MC_sample_6D['ra'][each_draw],\n",
    "                        MC_sample_6D['dec'][each_draw],\n",
    "                        degree=False,epoch='J2015.5'\n",
    "                        )\n",
    "    \n",
    "    uvw = bovy_coords.vrpmllpmbb_to_vxvyvz(\n",
    "                    MC_sample_6D['vrad'][each_draw],\n",
    "                    pmlpmb[:,0],pmlpmb[:,1],\n",
    "                    lb[:,0],lb[:,1],\n",
    "                    MC_sample_6D['distance'][each_draw],\n",
    "                    XYZ=False,degree=False\n",
    "                    )\n",
    "    \n",
    "    interim_orbit_information[Rphiz_labels[0]].append(Rphiz[:,0])\n",
    "    interim_orbit_information[Rphiz_labels[1]].append(Rphiz[:,1])\n",
    "    interim_orbit_information[Rphiz_labels[2]].append(Rphiz[:,2])\n",
    "    \n",
    "    interim_orbit_information[UVW_labels[0]].append(uvw[:,0])\n",
    "    interim_orbit_information[UVW_labels[1]].append(uvw[:,1])\n",
    "    interim_orbit_information[UVW_labels[2]].append(uvw[:,2])\n",
    "\n",
    "    vRphiz = bovy_coords.vxvyvz_to_galcencyl(\n",
    "                    uvw[:,0],\n",
    "                    uvw[:,1],\n",
    "                    uvw[:,2],\n",
    "                    Rphiz[:,0],\n",
    "                    Rphiz[:,1],\n",
    "                    Rphiz[:,2],\n",
    "                    vsun=[vX_gc_sun_kms,vY_gc_sun_kms,vZ_gc_sun_kms],\n",
    "                    galcen=True\n",
    "                    )\n",
    "    \n",
    "    interim_orbit_information[vRphiz_labels[0]].append(vRphiz[:,0])\n",
    "    interim_orbit_information[vRphiz_labels[1]].append(vRphiz[:,1])\n",
    "    interim_orbit_information[vRphiz_labels[2]].append(vRphiz[:,2])\n",
    "    \n",
    "\n",
    "    jR,lz,jz = aAS(\n",
    "        Rphiz[:,0]/_REFR0,\n",
    "        vRphiz[:,0]/_REFV0,\n",
    "        vRphiz[:,1]/_REFV0,\n",
    "        Rphiz[:,2]/_REFR0,\n",
    "        vRphiz[:,2]/_REFV0\n",
    "    )\n",
    "    \n",
    "    interim_orbit_information[action_labels[0]].append(jR*_REFR0*_REFV0)\n",
    "    interim_orbit_information[action_labels[1]].append(lz*_REFR0*_REFV0)\n",
    "    interim_orbit_information[action_labels[2]].append(jz*_REFR0*_REFV0)\n",
    "    \n",
    "    ezr1, ezr2, ezr3, ezr4 = aAS.EccZmaxRperiRap(\n",
    "        Rphiz[:,0]/_REFR0,\n",
    "        vRphiz[:,0]/_REFV0,\n",
    "        vRphiz[:,1]/_REFV0,\n",
    "        Rphiz[:,1]/_REFR0,\n",
    "        vRphiz[:,2]/_REFV0,\n",
    "        Rphiz[:,2]\n",
    "    )\n",
    "    interim_orbit_information[ext_orbit_labels[0]].append(ezr1)\n",
    "    interim_orbit_information[ext_orbit_labels[1]].append(ezr2*_REFR0)\n",
    "    interim_orbit_information[ext_orbit_labels[2]].append(ezr3*_REFR0)\n",
    "    interim_orbit_information[ext_orbit_labels[3]].append(ezr4*_REFR0)\n",
    "    "
   ]
  },
  {
   "cell_type": "code",
   "execution_count": null,
   "metadata": {
    "collapsed": false
   },
   "outputs": [],
   "source": [
    "for each_orbit_label in orbit_labels:\n",
    "    interim_orbit_information[each_orbit_label] = np.array(interim_orbit_information[each_orbit_label])\n",
    "    try:\n",
    "        orbit_information[each_orbit_label] = np.array([np.nanmean(interim_orbit_information[each_orbit_label][:,each_star]) for each_star in range(nr_stars)])\n",
    "        orbit_information[each_orbit_label+'_sig'] = np.array([np.nanstd(interim_orbit_information[each_orbit_label][:,each_star]) for each_star in range(nr_stars)])\n",
    "    except:\n",
    "        print('no output for '+each_orbit_label)\n",
    "\n",
    "if debug==True:\n",
    "    \n",
    "    star_index = 0\n",
    "    \n",
    "    print(\"XYZ = ({x:8.2f},{y:8.2f},{z:8.2f}) [kpc]\".format(\n",
    "        x=orbit_information[XYZ_labels[0]][star_index],\n",
    "        y=orbit_information[XYZ_labels[1]][star_index],\n",
    "        z=orbit_information[XYZ_labels[2]][star_index]\n",
    "        ))\n",
    "          \n",
    "    print(\"UVW = ({u:8.2f},{v:8.2f},{w:8.2f}) [kpc km/s]\".format(\n",
    "        u=orbit_information[UVW_labels[0]][star_index],\n",
    "        v=orbit_information[UVW_labels[1]][star_index],\n",
    "        w=orbit_information[UVW_labels[2]][star_index]\n",
    "        ))\n",
    "\n",
    "    print(\"R   = {r:6.2f} +- {r_sig:6.2f} [kpc], phi = {phi:6.2f} +- {phi_sig:6.2f} [rad], z = {z:6.2f} +- {z_sig:6.2f} [kpc]\".format(\n",
    "        r=orbit_information[Rphiz_labels[0]][star_index],\n",
    "        phi=orbit_information[Rphiz_labels[1]][star_index],\n",
    "        z=orbit_information[Rphiz_labels[2]][star_index],\n",
    "        r_sig=orbit_information[Rphiz_labels[0]+'_sig'][star_index],\n",
    "        phi_sig=orbit_information[Rphiz_labels[1]+'_sig'][star_index],\n",
    "        z_sig=orbit_information[Rphiz_labels[2]+'_sig'][star_index]\n",
    "        ))\n",
    "    print(\"J_R = {jr:6.2f} +- {jr_sig:6.2f}, L_Z = {lz:6.2f} +- {lz_sig:6.2f}, J_Z = {jz:6.2f} +- {jz_sig:6.2f} [kpc km/s]\".format(\n",
    "        jr=orbit_information['J_R'][star_index],\n",
    "        jr_sig=orbit_information['J_R_sig'][star_index],\n",
    "        lz=orbit_information['L_Z'][star_index],\n",
    "        lz_sig=orbit_information['L_Z_sig'][star_index],\n",
    "        jz=orbit_information['J_Z'][star_index],\n",
    "        jz_sig=orbit_information['J_Z_sig'][star_index]\n",
    "        ))"
   ]
  },
  {
   "cell_type": "code",
   "execution_count": null,
   "metadata": {
    "collapsed": false
   },
   "outputs": [],
   "source": [
    "if debug==True:\n",
    "    errorbar_kwargs = dict(fmt='o')\n",
    "    \n",
    "    f, ((ax1, ax2, ax3), (ax4, ax5, ax6)) = plt.subplots(2,3,figsize=(15,5))\n",
    "\n",
    "    ax1.errorbar(\n",
    "        orbit_information[XYZ_labels[0]],\n",
    "        orbit_information[XYZ_labels[1]],\n",
    "        xerr=orbit_information[XYZ_labels[0]+'_sig'],\n",
    "        yerr=orbit_information[XYZ_labels[1]+'_sig'],\n",
    "        **errorbar_kwargs\n",
    "    )\n",
    "    ax1.set_xlabel('X (XYZ) [kpc]')\n",
    "    ax1.set_ylabel('Y (XYZ) [kpc]')\n",
    "    \n",
    "    ax2.errorbar(\n",
    "        orbit_information[Rphiz_labels[0]],\n",
    "        orbit_information[Rphiz_labels[2]],\n",
    "        xerr=orbit_information['R_Rzphi_sig'],\n",
    "        yerr=orbit_information['z_Rzphi_sig'],\n",
    "        **errorbar_kwargs\n",
    "    )\n",
    "    ax2.set_xlabel('R (GC) [kpc]')\n",
    "    ax2.set_ylabel('z (GC) [kpc]')\n",
    "\n",
    "    ax3.errorbar(\n",
    "        orbit_information[UVW_labels[1]],\n",
    "        np.sqrt(orbit_information[UVW_labels[0]]**2 + orbit_information[UVW_labels[2]]**2),\n",
    "        xerr=orbit_information[UVW_labels[1]+'_sig'],\n",
    "        yerr=np.sqrt(orbit_information[UVW_labels[0]+'_sig']**2 + orbit_information[UVW_labels[2]+'_sig']**2),\n",
    "        **errorbar_kwargs\n",
    "    )\n",
    "    ax3.set_xlabel('Toomre V (LSR) [km/s]')\n",
    "    ax3.set_ylabel('Toomre UW (LSR) [km/s]')\n",
    "\n",
    "    ax4.errorbar(\n",
    "        orbit_information[ext_orbit_labels[0]],\n",
    "        orbit_information[ext_orbit_labels[1]],\n",
    "        xerr=orbit_information[ext_orbit_labels[0]+'_sig'],\n",
    "        yerr=orbit_information[ext_orbit_labels[1]+'_sig'],\n",
    "        **errorbar_kwargs\n",
    "    )\n",
    "    ax4.set_xlabel('Eccentricity')\n",
    "    ax4.set_ylabel('z_max [kpc]')\n",
    "\n",
    "    ax5.errorbar(\n",
    "        orbit_information[ext_orbit_labels[2]],\n",
    "        orbit_information[ext_orbit_labels[3]],\n",
    "        xerr=orbit_information[ext_orbit_labels[2]+'_sig'],\n",
    "        yerr=orbit_information[ext_orbit_labels[3]+'_sig'],\n",
    "        **errorbar_kwargs\n",
    "    )\n",
    "    ax5.set_xlabel('R (pericenter) [kpc]')\n",
    "    ax5.set_ylabel('R (apocenter) [kpc]')\n",
    "\n",
    "    ax6.errorbar(\n",
    "        orbit_information[action_labels[1]],\n",
    "        np.sqrt(orbit_information[action_labels[0]]),\n",
    "        xerr=orbit_information[action_labels[1]+'_sig'],\n",
    "        yerr=[np.sqrt(orbit_information[action_labels[0]]+orbit_information[action_labels[0]+'_sig']) - np.sqrt(orbit_information[action_labels[0]]),np.sqrt(orbit_information[action_labels[0]]) - np.sqrt(orbit_information[action_labels[0]]-orbit_information[action_labels[0]+'_sig'])],\n",
    "        **errorbar_kwargs\n",
    "    )\n",
    "    ax6.set_xlabel('L_Z [kpc km/s]')\n",
    "    ax6.set_ylabel('sqrt(J_R [kpc km/s])')\n",
    "\n",
    "    plt.tight_layout()"
   ]
  },
  {
   "cell_type": "code",
   "execution_count": null,
   "metadata": {
    "collapsed": true
   },
   "outputs": [],
   "source": [
    "galah_dynamics = {}\n",
    "\n",
    "galah_dynamics['sobject_id'] = galah_gaia_input['sobject_id']\n",
    "for each_orbit_label in orbit_labels:\n",
    "    galah_dynamics[each_orbit_label] = np.zeros(nr_galah_stars, dtype=float)\n",
    "    galah_dynamics[each_orbit_label].fill(np.nan)\n",
    "    galah_dynamics[each_orbit_label+'_sig'] = np.zeros(nr_galah_stars, dtype=float)\n",
    "    galah_dynamics[each_orbit_label+'_sig'].fill(np.nan)\n",
    "\n",
    "    (galah_dynamics[each_orbit_label])[nr_galah_stars_dynamics] = orbit_information[each_orbit_label]\n",
    "    (galah_dynamics[each_orbit_label+'_sig'])[nr_galah_stars_dynamics] = orbit_information[each_orbit_label+'_sig']\n",
    "\n",
    "    \n",
    "galah_dynamics_data = pandas.DataFrame(galah_dynamics,columns=galah_dynamics.keys())\n",
    "galah_dynamics_data\n",
    "\n",
    "data_for_fits = Table.from_pandas(galah_dynamics_data)\n",
    "data_for_fits.write('sobject_dynamics.fits',overwrite=True)"
   ]
  },
  {
   "cell_type": "code",
   "execution_count": null,
   "metadata": {
    "collapsed": false
   },
   "outputs": [],
   "source": [
    "import email\n",
    "import email.mime.application\n",
    "from email.MIMEMultipart import MIMEMultipart\n",
    "from email.MIMEText import MIMEText\n",
    "from email.MIMEImage import MIMEImage\n",
    "msg = MIMEMultipart()\n",
    "\n",
    "msg['From'] = 'gemini2'\n",
    "msg['To'] = 'buder@mpia.de'\n",
    "msg['Subject'] = 'Orbit calculation for GALAH DR3 finished'                                                                                                         \n",
    "\n",
    "import smtplib\n",
    "mailer = smtplib.SMTP('localhost')\n",
    "mailer.sendmail('gemini2', 'buder@mpia.de', msg.as_string())\n",
    "mailer.close()\n",
    "print('Email sent')"
   ]
  }
 ],
 "metadata": {
  "kernelspec": {
   "display_name": "Python 2",
   "language": "python",
   "name": "python2"
  },
  "language_info": {
   "codemirror_mode": {
    "name": "ipython",
    "version": 2
   },
   "file_extension": ".py",
   "mimetype": "text/x-python",
   "name": "python",
   "nbconvert_exporter": "python",
   "pygments_lexer": "ipython2",
   "version": "2.7.13"
  }
 },
 "nbformat": 4,
 "nbformat_minor": 2
}
