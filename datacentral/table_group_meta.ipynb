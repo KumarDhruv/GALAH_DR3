{
 "cells": [
  {
   "cell_type": "code",
   "execution_count": 1,
   "metadata": {},
   "outputs": [],
   "source": [
    "import numpy as np\n",
    "from astropy.table import Table"
   ]
  },
  {
   "cell_type": "code",
   "execution_count": 2,
   "metadata": {},
   "outputs": [],
   "source": [
    "group = np.array([\n",
    "    ['name|pretty_name|description|documentation|contact|date|version'],\n",
    "    ['mainstargroup|GALAH_DR3_main_allstar|GALAH DR3 Main Allstar (Clean)||sven.buder@anu.edu.au|2020-10-09|200604'],\n",
    "    ['mainspecgroup|GALAH_DR3_main_allstar|GALAH DR3 Main Allspec (Extended Caution)||sven.buder@anu.edu.au|2020-10-09|200604'],\n",
    "    ['vacgroup|GALAH_DR3_vac|GALAH DR3 Value-Added-Catalogs||sven.buder@anu.edu.au|2020-10-12|201012']\n",
    "])"
   ]
  },
  {
   "cell_type": "code",
   "execution_count": 3,
   "metadata": {},
   "outputs": [
    {
     "name": "stdout",
     "output_type": "stream",
     "text": [
      "[['name|pretty_name|description|documentation|contact|date|version']\n",
      " ['mainstargroup|GALAH_DR3_main_allstar|GALAH DR3 Main Allstar (Clean)||sven.buder@anu.edu.au|2020-10-09|200604']\n",
      " ['mainspecgroup|GALAH_DR3_main_allstar|GALAH DR3 Main Allspec (Extended Caution)||sven.buder@anu.edu.au|2020-10-09|200604']\n",
      " ['vacgroup|GALAH_DR3_vac|GALAH DR3 Value-Added-Catalogs||sven.buder@anu.edu.au|2020-10-12|201012']]\n"
     ]
    }
   ],
   "source": [
    "np.savetxt('galah_dr3_group_meta.txt',group,fmt='%s')\n",
    "print(group)"
   ]
  },
  {
   "cell_type": "code",
   "execution_count": 4,
   "metadata": {},
   "outputs": [],
   "source": [
    "table = np.array([\n",
    "    ['mainspectable|GALAH DR3 Main Allspec (Extended Caution)|mainspecgroup|GALAH_DR3_main_allspec_v1.fits|sven.buder@anu.edu.au|2020-11-01|201101'],\n",
    "    ['mainstartable|GALAH DR3 Main Allstar (Clean)|mainstargroup|GALAH_DR3_main_allstar_v1.fits|sven.buder@anu.edu.au|2020-11-01| 201101'],\n",
    "    ['vacagestable|GALAH DR3 VAC Ages|vacgroup|GALAH_DR3_VAC_ages_v1.fits|sven.buder@anu.edu.au|2020-11-01| 201101'],\n",
    "    ['vacdynamicstable|GALAH DR3 VAC Dyanmics|vacgroup|GALAH_DR3_VAC_dynamics_v1.fits|sven.buder@anu.edu.au|2020-11-01| 201101'],\n",
    "    ['vacrvtable|GALAH DR3 VAC RV|vacgroup|GALAH_DR3_VAC_rv.fits|sven.buder@anu.edu.au|2020-11-01| 201101']\n",
    "])"
   ]
  },
  {
   "cell_type": "code",
   "execution_count": 5,
   "metadata": {},
   "outputs": [
    {
     "name": "stdout",
     "output_type": "stream",
     "text": [
      "[['mainspectable|GALAH DR3 Main Allspec (Extended Caution)|mainspecgroup|GALAH_DR3_main_allspec_v1.fits|sven.buder@anu.edu.au|2020-11-01|201101']\n",
      " ['mainstartable|GALAH DR3 Main Allstar (Clean)|mainstargroup|GALAH_DR3_main_allstar_v1.fits|sven.buder@anu.edu.au|2020-11-01| 201101']\n",
      " ['vacagestable|GALAH DR3 VAC Ages|vacgroup|GALAH_DR3_VAC_ages_v1.fits|sven.buder@anu.edu.au|2020-11-01| 201101']\n",
      " ['vacdynamicstable|GALAH DR3 VAC Dyanmics|vacgroup|GALAH_DR3_VAC_dynamics_v1.fits|sven.buder@anu.edu.au|2020-11-01| 201101']\n",
      " ['vacrvtable|GALAH DR3 VAC RV|vacgroup|GALAH_DR3_VAC_rv.fits|sven.buder@anu.edu.au|2020-11-01| 201101']]\n"
     ]
    }
   ],
   "source": [
    "np.savetxt('galah_dr3_table_meta.txt',table,fmt='%s')\n",
    "print(table)"
   ]
  },
  {
   "cell_type": "code",
   "execution_count": 6,
   "metadata": {},
   "outputs": [],
   "source": [
    "sql_meta = np.array([\n",
    "    ['table_name|sql'],\n",
    "    ['mainstartable|“SELECT * FROM galah_dr3.mainstartable WHERE sobject_id = {objid}”'],\n",
    "    ['mainspectable|“SELECT * FROM galah_dr3.mainspectable WHERE sobject_id = {objid}”'],\n",
    "    ['vacagestable|“SELECT * FROM galah_dr3.vacagestable WHERE sobject_id = {objid}”'],\n",
    "    ['vacdynamicstable|“SELECT * FROM galah_dr3.vacdynamicstable WHERE sobject_id = {objid}”'],\n",
    "    ['vacrvtable|“SELECT * FROM galah_dr3.vacrvtable WHERE sobject_id = {objid}”']\n",
    "])\n",
    "\n",
    "np.savetxt('galah_dr3_sql_meta.txt',sql_meta,fmt='%s')\n"
   ]
  },
  {
   "cell_type": "code",
   "execution_count": 7,
   "metadata": {},
   "outputs": [],
   "source": [
    "coordinate_meta = np.array([\n",
    "    ['table_name|source_name_col|long_col|lat_col|long_format|lat_format|frame|equinox'],\n",
    "    ['mainstartable|sobject_id|ra|dec|deg|deg|icrs|'],\n",
    "    ['mainspectable|sobject_id|ra|dec|deg|deg|icrs|']\n",
    "])\n",
    "np.savetxt('galah_dr3_coordinate_meta.txt',coordinate_meta,fmt='%s')\n",
    "\n"
   ]
  },
  {
   "cell_type": "code",
   "execution_count": null,
   "metadata": {},
   "outputs": [],
   "source": []
  }
 ],
 "metadata": {
  "kernelspec": {
   "display_name": "Python 3",
   "language": "python",
   "name": "python3"
  },
  "language_info": {
   "codemirror_mode": {
    "name": "ipython",
    "version": 3
   },
   "file_extension": ".py",
   "mimetype": "text/x-python",
   "name": "python",
   "nbconvert_exporter": "python",
   "pygments_lexer": "ipython3",
   "version": "3.7.4"
  }
 },
 "nbformat": 4,
 "nbformat_minor": 2
}
